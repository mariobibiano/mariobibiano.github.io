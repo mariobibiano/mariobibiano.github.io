{
  "nbformat": 4,
  "nbformat_minor": 0,
  "metadata": {
    "colab": {
      "name": "Banco.ipynb",
      "provenance": [],
      "collapsed_sections": [],
      "authorship_tag": "ABX9TyNXv4wBP2si0RK8cLMPXJE5"
    },
    "kernelspec": {
      "name": "python3",
      "display_name": "Python 3"
    },
    "language_info": {
      "name": "python"
    }
  },
  "cells": [
    {
      "cell_type": "markdown",
      "source": [
        "# Importando BB e Base"
      ],
      "metadata": {
        "id": "5VmwI6N-f5Bd"
      }
    },
    {
      "cell_type": "code",
      "source": [
        "# Imports\n",
        "from google.colab import drive\n",
        "drive.mount('/content/drive')\n",
        "import numpy as np\n",
        "import pandas as pd\n",
        "import seaborn as sns\n",
        "import matplotlib.pyplot as plt\n",
        "from sklearn.model_selection import train_test_split\n",
        "from sklearn.metrics import precision_score, recall_score, f1_score, accuracy_score, roc_auc_score,classification_report,confusion_matrix\n",
        "from sklearn import svm\n",
        "import sklearn\n",
        "import matplotlib\n",
        "import warnings\n",
        "from sklearn.tree import DecisionTreeClassifier\n",
        "warnings.filterwarnings('ignore')"
      ],
      "metadata": {
        "colab": {
          "base_uri": "https://localhost:8080/"
        },
        "id": "XRiYgKujLejb",
        "outputId": "063da08b-bf90-4076-e72b-b472e658630a"
      },
      "execution_count": 1,
      "outputs": [
        {
          "output_type": "stream",
          "name": "stdout",
          "text": [
            "Mounted at /content/drive\n"
          ]
        }
      ]
    },
    {
      "cell_type": "code",
      "source": [
        "# Importando dataset\n",
        "df=pd.read_csv('/content/Dataset_Banco.csv')"
      ],
      "metadata": {
        "id": "ZmyA5sRELng4"
      },
      "execution_count": 2,
      "outputs": []
    },
    {
      "cell_type": "code",
      "source": [
        "df.head()"
      ],
      "metadata": {
        "colab": {
          "base_uri": "https://localhost:8080/",
          "height": 287
        },
        "id": "CioxhRr6NMwh",
        "outputId": "a135ba53-be3a-4ae9-d010-ab885c12ead7"
      },
      "execution_count": 3,
      "outputs": [
        {
          "output_type": "execute_result",
          "data": {
            "text/plain": [
              "  Emprestimo_ID Genero Casado Dependentes      Educacao Autonomo  \\\n",
              "0      LP001002   Male     No           0      Graduate       No   \n",
              "1      LP001003   Male    Yes           1      Graduate       No   \n",
              "2      LP001005   Male    Yes           0      Graduate      Yes   \n",
              "3      LP001006   Male    Yes           0  Not Graduate       No   \n",
              "4      LP001008   Male     No           0      Graduate       No   \n",
              "\n",
              "   RendadoCandidato  RendadoConjugue  ValordoEmprestimo  \\\n",
              "0              5849              0.0                NaN   \n",
              "1              4583           1508.0              128.0   \n",
              "2              3000              0.0               66.0   \n",
              "3              2583           2358.0              120.0   \n",
              "4              6000              0.0              141.0   \n",
              "\n",
              "   Valor_doEmprestimo_Prazo  Historico_deCredito Area_Propriedade  \\\n",
              "0                     360.0                  1.0            Urban   \n",
              "1                     360.0                  1.0            Rural   \n",
              "2                     360.0                  1.0            Urban   \n",
              "3                     360.0                  1.0            Urban   \n",
              "4                     360.0                  1.0            Urban   \n",
              "\n",
              "  Status_Emprestimo  \n",
              "0                 Y  \n",
              "1                 N  \n",
              "2                 Y  \n",
              "3                 Y  \n",
              "4                 Y  "
            ],
            "text/html": [
              "\n",
              "  <div id=\"df-0f1b3f6c-cb1d-4eb7-ba42-57ff9f558ce1\">\n",
              "    <div class=\"colab-df-container\">\n",
              "      <div>\n",
              "<style scoped>\n",
              "    .dataframe tbody tr th:only-of-type {\n",
              "        vertical-align: middle;\n",
              "    }\n",
              "\n",
              "    .dataframe tbody tr th {\n",
              "        vertical-align: top;\n",
              "    }\n",
              "\n",
              "    .dataframe thead th {\n",
              "        text-align: right;\n",
              "    }\n",
              "</style>\n",
              "<table border=\"1\" class=\"dataframe\">\n",
              "  <thead>\n",
              "    <tr style=\"text-align: right;\">\n",
              "      <th></th>\n",
              "      <th>Emprestimo_ID</th>\n",
              "      <th>Genero</th>\n",
              "      <th>Casado</th>\n",
              "      <th>Dependentes</th>\n",
              "      <th>Educacao</th>\n",
              "      <th>Autonomo</th>\n",
              "      <th>RendadoCandidato</th>\n",
              "      <th>RendadoConjugue</th>\n",
              "      <th>ValordoEmprestimo</th>\n",
              "      <th>Valor_doEmprestimo_Prazo</th>\n",
              "      <th>Historico_deCredito</th>\n",
              "      <th>Area_Propriedade</th>\n",
              "      <th>Status_Emprestimo</th>\n",
              "    </tr>\n",
              "  </thead>\n",
              "  <tbody>\n",
              "    <tr>\n",
              "      <th>0</th>\n",
              "      <td>LP001002</td>\n",
              "      <td>Male</td>\n",
              "      <td>No</td>\n",
              "      <td>0</td>\n",
              "      <td>Graduate</td>\n",
              "      <td>No</td>\n",
              "      <td>5849</td>\n",
              "      <td>0.0</td>\n",
              "      <td>NaN</td>\n",
              "      <td>360.0</td>\n",
              "      <td>1.0</td>\n",
              "      <td>Urban</td>\n",
              "      <td>Y</td>\n",
              "    </tr>\n",
              "    <tr>\n",
              "      <th>1</th>\n",
              "      <td>LP001003</td>\n",
              "      <td>Male</td>\n",
              "      <td>Yes</td>\n",
              "      <td>1</td>\n",
              "      <td>Graduate</td>\n",
              "      <td>No</td>\n",
              "      <td>4583</td>\n",
              "      <td>1508.0</td>\n",
              "      <td>128.0</td>\n",
              "      <td>360.0</td>\n",
              "      <td>1.0</td>\n",
              "      <td>Rural</td>\n",
              "      <td>N</td>\n",
              "    </tr>\n",
              "    <tr>\n",
              "      <th>2</th>\n",
              "      <td>LP001005</td>\n",
              "      <td>Male</td>\n",
              "      <td>Yes</td>\n",
              "      <td>0</td>\n",
              "      <td>Graduate</td>\n",
              "      <td>Yes</td>\n",
              "      <td>3000</td>\n",
              "      <td>0.0</td>\n",
              "      <td>66.0</td>\n",
              "      <td>360.0</td>\n",
              "      <td>1.0</td>\n",
              "      <td>Urban</td>\n",
              "      <td>Y</td>\n",
              "    </tr>\n",
              "    <tr>\n",
              "      <th>3</th>\n",
              "      <td>LP001006</td>\n",
              "      <td>Male</td>\n",
              "      <td>Yes</td>\n",
              "      <td>0</td>\n",
              "      <td>Not Graduate</td>\n",
              "      <td>No</td>\n",
              "      <td>2583</td>\n",
              "      <td>2358.0</td>\n",
              "      <td>120.0</td>\n",
              "      <td>360.0</td>\n",
              "      <td>1.0</td>\n",
              "      <td>Urban</td>\n",
              "      <td>Y</td>\n",
              "    </tr>\n",
              "    <tr>\n",
              "      <th>4</th>\n",
              "      <td>LP001008</td>\n",
              "      <td>Male</td>\n",
              "      <td>No</td>\n",
              "      <td>0</td>\n",
              "      <td>Graduate</td>\n",
              "      <td>No</td>\n",
              "      <td>6000</td>\n",
              "      <td>0.0</td>\n",
              "      <td>141.0</td>\n",
              "      <td>360.0</td>\n",
              "      <td>1.0</td>\n",
              "      <td>Urban</td>\n",
              "      <td>Y</td>\n",
              "    </tr>\n",
              "  </tbody>\n",
              "</table>\n",
              "</div>\n",
              "      <button class=\"colab-df-convert\" onclick=\"convertToInteractive('df-0f1b3f6c-cb1d-4eb7-ba42-57ff9f558ce1')\"\n",
              "              title=\"Convert this dataframe to an interactive table.\"\n",
              "              style=\"display:none;\">\n",
              "        \n",
              "  <svg xmlns=\"http://www.w3.org/2000/svg\" height=\"24px\"viewBox=\"0 0 24 24\"\n",
              "       width=\"24px\">\n",
              "    <path d=\"M0 0h24v24H0V0z\" fill=\"none\"/>\n",
              "    <path d=\"M18.56 5.44l.94 2.06.94-2.06 2.06-.94-2.06-.94-.94-2.06-.94 2.06-2.06.94zm-11 1L8.5 8.5l.94-2.06 2.06-.94-2.06-.94L8.5 2.5l-.94 2.06-2.06.94zm10 10l.94 2.06.94-2.06 2.06-.94-2.06-.94-.94-2.06-.94 2.06-2.06.94z\"/><path d=\"M17.41 7.96l-1.37-1.37c-.4-.4-.92-.59-1.43-.59-.52 0-1.04.2-1.43.59L10.3 9.45l-7.72 7.72c-.78.78-.78 2.05 0 2.83L4 21.41c.39.39.9.59 1.41.59.51 0 1.02-.2 1.41-.59l7.78-7.78 2.81-2.81c.8-.78.8-2.07 0-2.86zM5.41 20L4 18.59l7.72-7.72 1.47 1.35L5.41 20z\"/>\n",
              "  </svg>\n",
              "      </button>\n",
              "      \n",
              "  <style>\n",
              "    .colab-df-container {\n",
              "      display:flex;\n",
              "      flex-wrap:wrap;\n",
              "      gap: 12px;\n",
              "    }\n",
              "\n",
              "    .colab-df-convert {\n",
              "      background-color: #E8F0FE;\n",
              "      border: none;\n",
              "      border-radius: 50%;\n",
              "      cursor: pointer;\n",
              "      display: none;\n",
              "      fill: #1967D2;\n",
              "      height: 32px;\n",
              "      padding: 0 0 0 0;\n",
              "      width: 32px;\n",
              "    }\n",
              "\n",
              "    .colab-df-convert:hover {\n",
              "      background-color: #E2EBFA;\n",
              "      box-shadow: 0px 1px 2px rgba(60, 64, 67, 0.3), 0px 1px 3px 1px rgba(60, 64, 67, 0.15);\n",
              "      fill: #174EA6;\n",
              "    }\n",
              "\n",
              "    [theme=dark] .colab-df-convert {\n",
              "      background-color: #3B4455;\n",
              "      fill: #D2E3FC;\n",
              "    }\n",
              "\n",
              "    [theme=dark] .colab-df-convert:hover {\n",
              "      background-color: #434B5C;\n",
              "      box-shadow: 0px 1px 3px 1px rgba(0, 0, 0, 0.15);\n",
              "      filter: drop-shadow(0px 1px 2px rgba(0, 0, 0, 0.3));\n",
              "      fill: #FFFFFF;\n",
              "    }\n",
              "  </style>\n",
              "\n",
              "      <script>\n",
              "        const buttonEl =\n",
              "          document.querySelector('#df-0f1b3f6c-cb1d-4eb7-ba42-57ff9f558ce1 button.colab-df-convert');\n",
              "        buttonEl.style.display =\n",
              "          google.colab.kernel.accessAllowed ? 'block' : 'none';\n",
              "\n",
              "        async function convertToInteractive(key) {\n",
              "          const element = document.querySelector('#df-0f1b3f6c-cb1d-4eb7-ba42-57ff9f558ce1');\n",
              "          const dataTable =\n",
              "            await google.colab.kernel.invokeFunction('convertToInteractive',\n",
              "                                                     [key], {});\n",
              "          if (!dataTable) return;\n",
              "\n",
              "          const docLinkHtml = 'Like what you see? Visit the ' +\n",
              "            '<a target=\"_blank\" href=https://colab.research.google.com/notebooks/data_table.ipynb>data table notebook</a>'\n",
              "            + ' to learn more about interactive tables.';\n",
              "          element.innerHTML = '';\n",
              "          dataTable['output_type'] = 'display_data';\n",
              "          await google.colab.output.renderOutput(dataTable, element);\n",
              "          const docLink = document.createElement('div');\n",
              "          docLink.innerHTML = docLinkHtml;\n",
              "          element.appendChild(docLink);\n",
              "        }\n",
              "      </script>\n",
              "    </div>\n",
              "  </div>\n",
              "  "
            ]
          },
          "metadata": {},
          "execution_count": 3
        }
      ]
    },
    {
      "cell_type": "markdown",
      "source": [
        "# Análise Exploratória"
      ],
      "metadata": {
        "id": "E9X9XSsmMi-h"
      }
    },
    {
      "cell_type": "markdown",
      "source": [
        "![](https://gomesfellipe.github.io/img/2018/05/img1.png)"
      ],
      "metadata": {
        "id": "Nmc38frNuQHg"
      }
    },
    {
      "cell_type": "markdown",
      "source": [
        "## a) verificando a estrutura da base"
      ],
      "metadata": {
        "id": "B9Juv8mfhLvT"
      }
    },
    {
      "cell_type": "code",
      "source": [
        "df.shape"
      ],
      "metadata": {
        "colab": {
          "base_uri": "https://localhost:8080/"
        },
        "id": "s0CcVlU8Nq4B",
        "outputId": "56d99f80-bcb2-4878-fa9c-f469305d6597"
      },
      "execution_count": 4,
      "outputs": [
        {
          "output_type": "execute_result",
          "data": {
            "text/plain": [
              "(614, 13)"
            ]
          },
          "metadata": {},
          "execution_count": 4
        }
      ]
    },
    {
      "cell_type": "code",
      "source": [
        "df.info()"
      ],
      "metadata": {
        "colab": {
          "base_uri": "https://localhost:8080/"
        },
        "id": "rVxOzOonMmFS",
        "outputId": "db6441a3-d006-4d0e-b9dd-6bc2f33af581"
      },
      "execution_count": 5,
      "outputs": [
        {
          "output_type": "stream",
          "name": "stdout",
          "text": [
            "<class 'pandas.core.frame.DataFrame'>\n",
            "RangeIndex: 614 entries, 0 to 613\n",
            "Data columns (total 13 columns):\n",
            " #   Column                    Non-Null Count  Dtype  \n",
            "---  ------                    --------------  -----  \n",
            " 0   Emprestimo_ID             614 non-null    object \n",
            " 1   Genero                    601 non-null    object \n",
            " 2   Casado                    611 non-null    object \n",
            " 3   Dependentes               599 non-null    object \n",
            " 4   Educacao                  614 non-null    object \n",
            " 5   Autonomo                  582 non-null    object \n",
            " 6   RendadoCandidato          614 non-null    int64  \n",
            " 7   RendadoConjugue           614 non-null    float64\n",
            " 8   ValordoEmprestimo         592 non-null    float64\n",
            " 9   Valor_doEmprestimo_Prazo  600 non-null    float64\n",
            " 10  Historico_deCredito       564 non-null    float64\n",
            " 11  Area_Propriedade          614 non-null    object \n",
            " 12  Status_Emprestimo         614 non-null    object \n",
            "dtypes: float64(4), int64(1), object(8)\n",
            "memory usage: 62.5+ KB\n"
          ]
        }
      ]
    },
    {
      "cell_type": "code",
      "source": [
        "df.describe().T"
      ],
      "metadata": {
        "colab": {
          "base_uri": "https://localhost:8080/",
          "height": 206
        },
        "id": "H7IxdyoCMn56",
        "outputId": "db745215-2f3a-4db6-d76f-1710866df128"
      },
      "execution_count": 6,
      "outputs": [
        {
          "output_type": "execute_result",
          "data": {
            "text/plain": [
              "                          count         mean          std    min     25%  \\\n",
              "RendadoCandidato          614.0  5403.459283  6109.041673  150.0  2877.5   \n",
              "RendadoConjugue           614.0  1621.245798  2926.248369    0.0     0.0   \n",
              "ValordoEmprestimo         592.0   146.412162    85.587325    9.0   100.0   \n",
              "Valor_doEmprestimo_Prazo  600.0   342.000000    65.120410   12.0   360.0   \n",
              "Historico_deCredito       564.0     0.842199     0.364878    0.0     1.0   \n",
              "\n",
              "                             50%      75%      max  \n",
              "RendadoCandidato          3812.5  5795.00  81000.0  \n",
              "RendadoConjugue           1188.5  2297.25  41667.0  \n",
              "ValordoEmprestimo          128.0   168.00    700.0  \n",
              "Valor_doEmprestimo_Prazo   360.0   360.00    480.0  \n",
              "Historico_deCredito          1.0     1.00      1.0  "
            ],
            "text/html": [
              "\n",
              "  <div id=\"df-5becd997-761f-42a5-84b5-dc76cc05beb0\">\n",
              "    <div class=\"colab-df-container\">\n",
              "      <div>\n",
              "<style scoped>\n",
              "    .dataframe tbody tr th:only-of-type {\n",
              "        vertical-align: middle;\n",
              "    }\n",
              "\n",
              "    .dataframe tbody tr th {\n",
              "        vertical-align: top;\n",
              "    }\n",
              "\n",
              "    .dataframe thead th {\n",
              "        text-align: right;\n",
              "    }\n",
              "</style>\n",
              "<table border=\"1\" class=\"dataframe\">\n",
              "  <thead>\n",
              "    <tr style=\"text-align: right;\">\n",
              "      <th></th>\n",
              "      <th>count</th>\n",
              "      <th>mean</th>\n",
              "      <th>std</th>\n",
              "      <th>min</th>\n",
              "      <th>25%</th>\n",
              "      <th>50%</th>\n",
              "      <th>75%</th>\n",
              "      <th>max</th>\n",
              "    </tr>\n",
              "  </thead>\n",
              "  <tbody>\n",
              "    <tr>\n",
              "      <th>RendadoCandidato</th>\n",
              "      <td>614.0</td>\n",
              "      <td>5403.459283</td>\n",
              "      <td>6109.041673</td>\n",
              "      <td>150.0</td>\n",
              "      <td>2877.5</td>\n",
              "      <td>3812.5</td>\n",
              "      <td>5795.00</td>\n",
              "      <td>81000.0</td>\n",
              "    </tr>\n",
              "    <tr>\n",
              "      <th>RendadoConjugue</th>\n",
              "      <td>614.0</td>\n",
              "      <td>1621.245798</td>\n",
              "      <td>2926.248369</td>\n",
              "      <td>0.0</td>\n",
              "      <td>0.0</td>\n",
              "      <td>1188.5</td>\n",
              "      <td>2297.25</td>\n",
              "      <td>41667.0</td>\n",
              "    </tr>\n",
              "    <tr>\n",
              "      <th>ValordoEmprestimo</th>\n",
              "      <td>592.0</td>\n",
              "      <td>146.412162</td>\n",
              "      <td>85.587325</td>\n",
              "      <td>9.0</td>\n",
              "      <td>100.0</td>\n",
              "      <td>128.0</td>\n",
              "      <td>168.00</td>\n",
              "      <td>700.0</td>\n",
              "    </tr>\n",
              "    <tr>\n",
              "      <th>Valor_doEmprestimo_Prazo</th>\n",
              "      <td>600.0</td>\n",
              "      <td>342.000000</td>\n",
              "      <td>65.120410</td>\n",
              "      <td>12.0</td>\n",
              "      <td>360.0</td>\n",
              "      <td>360.0</td>\n",
              "      <td>360.00</td>\n",
              "      <td>480.0</td>\n",
              "    </tr>\n",
              "    <tr>\n",
              "      <th>Historico_deCredito</th>\n",
              "      <td>564.0</td>\n",
              "      <td>0.842199</td>\n",
              "      <td>0.364878</td>\n",
              "      <td>0.0</td>\n",
              "      <td>1.0</td>\n",
              "      <td>1.0</td>\n",
              "      <td>1.00</td>\n",
              "      <td>1.0</td>\n",
              "    </tr>\n",
              "  </tbody>\n",
              "</table>\n",
              "</div>\n",
              "      <button class=\"colab-df-convert\" onclick=\"convertToInteractive('df-5becd997-761f-42a5-84b5-dc76cc05beb0')\"\n",
              "              title=\"Convert this dataframe to an interactive table.\"\n",
              "              style=\"display:none;\">\n",
              "        \n",
              "  <svg xmlns=\"http://www.w3.org/2000/svg\" height=\"24px\"viewBox=\"0 0 24 24\"\n",
              "       width=\"24px\">\n",
              "    <path d=\"M0 0h24v24H0V0z\" fill=\"none\"/>\n",
              "    <path d=\"M18.56 5.44l.94 2.06.94-2.06 2.06-.94-2.06-.94-.94-2.06-.94 2.06-2.06.94zm-11 1L8.5 8.5l.94-2.06 2.06-.94-2.06-.94L8.5 2.5l-.94 2.06-2.06.94zm10 10l.94 2.06.94-2.06 2.06-.94-2.06-.94-.94-2.06-.94 2.06-2.06.94z\"/><path d=\"M17.41 7.96l-1.37-1.37c-.4-.4-.92-.59-1.43-.59-.52 0-1.04.2-1.43.59L10.3 9.45l-7.72 7.72c-.78.78-.78 2.05 0 2.83L4 21.41c.39.39.9.59 1.41.59.51 0 1.02-.2 1.41-.59l7.78-7.78 2.81-2.81c.8-.78.8-2.07 0-2.86zM5.41 20L4 18.59l7.72-7.72 1.47 1.35L5.41 20z\"/>\n",
              "  </svg>\n",
              "      </button>\n",
              "      \n",
              "  <style>\n",
              "    .colab-df-container {\n",
              "      display:flex;\n",
              "      flex-wrap:wrap;\n",
              "      gap: 12px;\n",
              "    }\n",
              "\n",
              "    .colab-df-convert {\n",
              "      background-color: #E8F0FE;\n",
              "      border: none;\n",
              "      border-radius: 50%;\n",
              "      cursor: pointer;\n",
              "      display: none;\n",
              "      fill: #1967D2;\n",
              "      height: 32px;\n",
              "      padding: 0 0 0 0;\n",
              "      width: 32px;\n",
              "    }\n",
              "\n",
              "    .colab-df-convert:hover {\n",
              "      background-color: #E2EBFA;\n",
              "      box-shadow: 0px 1px 2px rgba(60, 64, 67, 0.3), 0px 1px 3px 1px rgba(60, 64, 67, 0.15);\n",
              "      fill: #174EA6;\n",
              "    }\n",
              "\n",
              "    [theme=dark] .colab-df-convert {\n",
              "      background-color: #3B4455;\n",
              "      fill: #D2E3FC;\n",
              "    }\n",
              "\n",
              "    [theme=dark] .colab-df-convert:hover {\n",
              "      background-color: #434B5C;\n",
              "      box-shadow: 0px 1px 3px 1px rgba(0, 0, 0, 0.15);\n",
              "      filter: drop-shadow(0px 1px 2px rgba(0, 0, 0, 0.3));\n",
              "      fill: #FFFFFF;\n",
              "    }\n",
              "  </style>\n",
              "\n",
              "      <script>\n",
              "        const buttonEl =\n",
              "          document.querySelector('#df-5becd997-761f-42a5-84b5-dc76cc05beb0 button.colab-df-convert');\n",
              "        buttonEl.style.display =\n",
              "          google.colab.kernel.accessAllowed ? 'block' : 'none';\n",
              "\n",
              "        async function convertToInteractive(key) {\n",
              "          const element = document.querySelector('#df-5becd997-761f-42a5-84b5-dc76cc05beb0');\n",
              "          const dataTable =\n",
              "            await google.colab.kernel.invokeFunction('convertToInteractive',\n",
              "                                                     [key], {});\n",
              "          if (!dataTable) return;\n",
              "\n",
              "          const docLinkHtml = 'Like what you see? Visit the ' +\n",
              "            '<a target=\"_blank\" href=https://colab.research.google.com/notebooks/data_table.ipynb>data table notebook</a>'\n",
              "            + ' to learn more about interactive tables.';\n",
              "          element.innerHTML = '';\n",
              "          dataTable['output_type'] = 'display_data';\n",
              "          await google.colab.output.renderOutput(dataTable, element);\n",
              "          const docLink = document.createElement('div');\n",
              "          docLink.innerHTML = docLinkHtml;\n",
              "          element.appendChild(docLink);\n",
              "        }\n",
              "      </script>\n",
              "    </div>\n",
              "  </div>\n",
              "  "
            ]
          },
          "metadata": {},
          "execution_count": 6
        }
      ]
    },
    {
      "cell_type": "markdown",
      "source": [
        "## b) tratando valores nulos"
      ],
      "metadata": {
        "id": "Rm_jKWaAgTTq"
      }
    },
    {
      "cell_type": "markdown",
      "source": [
        "Temos 3 opções quanto a valores nulos:\n",
        "\n",
        "\n",
        "1.   Apagar as linhas com nulo\n",
        "1.   Rodar uma machine learning pra prever e substituir esses valores nulos\n",
        "2.   **Atribuir valores de Moda e Média (seguiremos com essa diretriz)**\n",
        "\n",
        "\n",
        "\n",
        "\n",
        "\n"
      ],
      "metadata": {
        "id": "G_bkWhJ-gWD1"
      }
    },
    {
      "cell_type": "code",
      "source": [
        "df.isnull().sum()"
      ],
      "metadata": {
        "colab": {
          "base_uri": "https://localhost:8080/"
        },
        "id": "S1Go2Gl-MtN0",
        "outputId": "618ce116-ad72-41b7-d10e-aa60f3b0df53"
      },
      "execution_count": 7,
      "outputs": [
        {
          "output_type": "execute_result",
          "data": {
            "text/plain": [
              "Emprestimo_ID                0\n",
              "Genero                      13\n",
              "Casado                       3\n",
              "Dependentes                 15\n",
              "Educacao                     0\n",
              "Autonomo                    32\n",
              "RendadoCandidato             0\n",
              "RendadoConjugue              0\n",
              "ValordoEmprestimo           22\n",
              "Valor_doEmprestimo_Prazo    14\n",
              "Historico_deCredito         50\n",
              "Area_Propriedade             0\n",
              "Status_Emprestimo            0\n",
              "dtype: int64"
            ]
          },
          "metadata": {},
          "execution_count": 7
        }
      ]
    },
    {
      "cell_type": "code",
      "source": [
        "#Substituiindo Valores Nulos\n",
        "df['Genero'].fillna(df['Genero'].mode()[0], inplace=True)\n",
        "df['Casado'].fillna(df['Casado'].mode()[0], inplace=True)\n",
        "df['Dependentes'].fillna(df['Dependentes'].mode()[0], inplace=True)\n",
        "df['Autonomo'].fillna(df['Autonomo'].mode()[0], inplace=True)\n",
        "df['Historico_deCredito'].fillna(df['Historico_deCredito'].mode()[0], inplace=True)\n",
        "df['ValordoEmprestimo'].fillna(df['ValordoEmprestimo'].mean(), inplace=True)\n",
        "df['Valor_doEmprestimo_Prazo'].fillna(df['Valor_doEmprestimo_Prazo'].mean(), inplace=True)"
      ],
      "metadata": {
        "id": "43q8kbCybX8w"
      },
      "execution_count": 8,
      "outputs": []
    },
    {
      "cell_type": "markdown",
      "source": [
        "## c) primeiros insights"
      ],
      "metadata": {
        "id": "JLNCVybchYQa"
      }
    },
    {
      "cell_type": "markdown",
      "source": [
        "![](https://s3.amazonaws.com/ibc-portal/wp-content/uploads/2020/08/26170511/insights.jpg)"
      ],
      "metadata": {
        "id": "00X4GLPaujkR"
      }
    },
    {
      "cell_type": "code",
      "source": [
        "# Proporção de empréstimos concedido\n",
        "plt.title(\"Empréstimos Concedidos\")\n",
        "sns.countplot(df['Status_Emprestimo'])"
      ],
      "metadata": {
        "colab": {
          "base_uri": "https://localhost:8080/",
          "height": 314
        },
        "id": "5nqa2o9ZqCkc",
        "outputId": "45f60c1a-1b4b-4c09-c928-d2bc0528fec2"
      },
      "execution_count": 25,
      "outputs": [
        {
          "output_type": "execute_result",
          "data": {
            "text/plain": [
              "<matplotlib.axes._subplots.AxesSubplot at 0x7f377043b610>"
            ]
          },
          "metadata": {},
          "execution_count": 25
        },
        {
          "output_type": "display_data",
          "data": {
            "text/plain": [
              "<Figure size 432x288 with 1 Axes>"
            ],
            "image/png": "[encoded data removed]"
          },
          "metadata": {
            "needs_background": "light"
          }
        }
      ]
    },
    {
      "cell_type": "markdown",
      "source": [
        "Maior número de aprovação pra quem é casado"
      ],
      "metadata": {
        "id": "ELYj9IzZn2eE"
      }
    },
    {
      "cell_type": "code",
      "source": [
        "pd.crosstab(df['Casado'], df['Status_Emprestimo']).plot(kind = 'bar',stacked = True,figsize = (5, 5),color = ['red', 'green'])\n"
      ],
      "metadata": {
        "colab": {
          "base_uri": "https://localhost:8080/",
          "height": 358
        },
        "id": "hgW2mrinoQVP",
        "outputId": "6c3b71c6-c747-4fb9-bb30-c14d610bdcef"
      },
      "execution_count": 11,
      "outputs": [
        {
          "output_type": "execute_result",
          "data": {
            "text/plain": [
              "<matplotlib.axes._subplots.AxesSubplot at 0x7f3778233dd0>"
            ]
          },
          "metadata": {},
          "execution_count": 11
        },
        {
          "output_type": "display_data",
          "data": {
            "text/plain": [
              "<Figure size 360x360 with 1 Axes>"
            ],
            "image/png": "[encoded data removed]"
          },
          "metadata": {
            "needs_background": "light"
          }
        }
      ]
    },
    {
      "cell_type": "markdown",
      "source": [
        "Candidatos com poucos filhos, são o público que mais pede empréstimos"
      ],
      "metadata": {
        "id": "rPlH0Zz_oS7Z"
      }
    },
    {
      "cell_type": "code",
      "source": [
        "pd.crosstab(df['Dependentes'], df['Status_Emprestimo']).plot(kind = 'bar',stacked = True,figsize = (5, 5),color = ['red', 'green'])"
      ],
      "metadata": {
        "colab": {
          "base_uri": "https://localhost:8080/",
          "height": 356
        },
        "id": "5gbYV9qnoM12",
        "outputId": "fefb7266-89d1-4db2-868b-e33eeb3e4507"
      },
      "execution_count": 107,
      "outputs": [
        {
          "output_type": "execute_result",
          "data": {
            "text/plain": [
              "<matplotlib.axes._subplots.AxesSubplot at 0x7fd105a8c310>"
            ]
          },
          "metadata": {},
          "execution_count": 107
        },
        {
          "output_type": "display_data",
          "data": {
            "text/plain": [
              "<Figure size 360x360 with 1 Axes>"
            ],
            "image/png": "[encoded data removed]"
          },
          "metadata": {
            "needs_background": "light"
          }
        }
      ]
    },
    {
      "cell_type": "markdown",
      "source": [
        "Público concentrado na faixa de renda de até 5k"
      ],
      "metadata": {
        "id": "PlN30czPqYzj"
      }
    },
    {
      "cell_type": "code",
      "source": [
        "import plotly.figure_factory as ff\n",
        "labels = ['Distribuição da Renda']\n",
        "fig = ff.create_distplot([df.RendadoCandidato], labels, bin_size=5000)\n",
        "fig.show()"
      ],
      "metadata": {
        "colab": {
          "base_uri": "https://localhost:8080/",
          "height": 542
        },
        "id": "yyvwYIQKovTy",
        "outputId": "0505d758-94a3-4d70-efe8-f5dd7a600315"
      },
      "execution_count": 26,
      "outputs": [
        {
          "output_type": "display_data",
          "data": {
            "text/html": [
              "<html>\n",
              "<head><meta charset=\"utf-8\" /></head>\n",
              "<body>\n",
              "    <div>            <script src=\"https://cdnjs.cloudflare.com/ajax/libs/mathjax/2.7.5/MathJax.js?config=TeX-AMS-MML_SVG\"></script><script type=\"text/javascript\">if (window.MathJax) {MathJax.Hub.Config({SVG: {font: \"STIX-Web\"}});}</script>                <script type=\"text/javascript\">window.PlotlyConfig = {MathJaxConfig: 'local'};</script>\n",
              "        <script src=\"https://cdn.plot.ly/plotly-2.8.3.min.js\"></script>                <div id=\"7a277b86-8663-4bb4-acb7-501824c2b8e0\" class=\"plotly-graph-div\" style=\"height:525px; width:100%;\"></div>            <script type=\"text/javascript\">                                    window.PLOTLYENV=window.PLOTLYENV || {};                                    if (document.getElementById(\"7a277b86-8663-4bb4-acb7-501824c2b8e0\")) {                    Plotly.newPlot(                        \"7a277b86-8663-4bb4-acb7-501824c2b8e0\",                        [{\"autobinx\":false,\"histnorm\":\"probability density\",\"legendgroup\":\"Distribui\\u00e7\\u00e3o da Renda\",\"marker\":{\"color\":\"rgb(31, 119, 180)\"},\"name\":\"Distribui\\u00e7\\u00e3o da Renda\",\"opacity\":0.7,\"x\":[5849,4583,3000,2583,6000,5417,2333,3036,4006,12841,3200,2500,3073,1853,1299,4950,3596,3510,4887,2600,7660,5955,2600,3365,3717,9560,2799,4226,1442,3750,4166,3167,4692,3500,12500,2275,1828,3667,4166,3748,3600,1800,2400,3941,4695,3410,5649,5821,2645,4000,1928,3086,4230,4616,11500,2708,2132,3366,8080,3357,2500,3029,2609,4945,4166,5726,3200,10750,7100,4300,3208,1875,3500,4755,5266,3750,3750,1000,3167,3333,3846,2395,1378,6000,3988,2366,3333,2500,8566,5695,2958,6250,3273,4133,3620,6782,2484,1977,4188,1759,4288,4843,13650,4652,3816,3052,11417,7333,3800,2071,5316,2929,3572,7451,5050,14583,3167,2214,5568,10408,5667,4166,2137,2957,4300,3692,23803,3865,10513,6080,20166,2014,2718,3459,4895,4000,4583,3316,14999,4200,5042,5417,6950,2698,11757,2330,14866,1538,10000,4860,6277,2577,9166,2281,3254,39999,6000,9538,2980,4583,1863,7933,3089,4167,9323,3707,4583,2439,2237,8000,1820,51763,3522,5708,4344,3497,2045,5516,3750,2333,6400,1916,4600,33846,3625,39147,2178,2383,674,9328,4885,12000,6033,3858,4191,3125,8333,1907,3416,11000,2600,4923,3992,3500,3917,4408,3244,3975,2479,3418,10000,3430,7787,5703,3173,3850,150,3727,5000,4283,2221,4009,2971,7578,6250,3250,4735,6250,4758,6400,2491,3716,3189,8333,3155,5500,5746,3463,3812,3315,5819,2510,2965,6250,3406,6050,9703,6608,2882,1809,1668,3427,2583,2661,16250,3083,6045,5250,14683,4931,6083,2060,3481,7200,5166,4095,4708,4333,3418,2876,3237,11146,2833,2620,3900,2750,3993,3103,14583,4100,4053,3927,2301,1811,20667,3158,2600,3704,4124,9508,3075,4400,3153,5417,2383,4416,6875,4666,5000,2014,1800,2875,5000,1625,4000,2000,3762,2400,20233,7667,2917,2927,2507,5746,2473,3399,3717,2058,3541,10000,2400,4342,3601,3166,15000,8666,4917,5818,4333,2500,4384,2935,2833,63337,9833,5503,5250,2500,1830,4160,2647,2378,4554,3173,2583,2499,3523,3083,6333,2625,9083,8750,2666,5500,2423,3813,8333,3875,3000,5167,4723,5000,4750,3013,6822,6216,2500,5124,6325,19730,15759,5185,9323,3062,2764,4817,8750,4310,3069,5391,3333,5941,6000,7167,4566,3667,2346,3010,2333,5488,9167,9504,2583,1993,3100,3276,3180,3033,3902,1500,2889,2755,2500,1963,7441,4547,2167,2213,8300,81000,3867,6256,6096,2253,2149,2995,2600,1600,1025,3246,5829,2720,1820,7250,14880,2666,4606,5935,2920,2717,8624,6500,12876,2425,3750,10047,1926,2213,10416,7142,3660,7901,4707,37719,7333,3466,4652,3539,3340,2769,2309,1958,3948,2483,7085,3859,4301,3708,4354,8334,2083,7740,3015,5191,4166,6000,2947,16692,210,4333,3450,2653,4691,2500,5532,16525,6700,2873,16667,2947,4350,3095,2083,10833,8333,1958,3547,18333,4583,2435,2699,5333,3691,17263,3597,3326,2600,4625,2895,6283,645,3159,4865,4050,3814,3510,20833,3583,2479,13262,3598,6065,3283,2130,5815,3466,2031,3074,4683,3400,2192,2500,5677,7948,4680,17500,3775,5285,2679,6783,1025,4281,3588,11250,18165,2550,6133,3617,2917,6417,4608,2138,3652,2239,3017,2768,3358,2526,5000,2785,6633,2492,3333,2454,3593,5468,2667,10139,3887,4180,3675,19484,5923,5800,8799,4467,3333,3400,2378,3166,3417,5116,16666,6125,6406,3159,3087,3229,1782,3182,6540,1836,3166,1880,2787,4283,2297,2165,4750,2726,3000,6000,9357,3859,16120,3833,6383,2987,9963,5780,416,2894,5703,3676,12000,2400,3400,3987,3232,2900,4106,8072,7583,4583],\"xaxis\":\"x\",\"xbins\":{\"end\":81000.0,\"size\":5000,\"start\":150.0},\"yaxis\":\"y\",\"type\":\"histogram\"},{\"legendgroup\":\"Distribui\\u00e7\\u00e3o da Renda\",\"marker\":{\"color\":\"rgb(31, 119, 180)\"},\"mode\":\"lines\",\"name\":\"Distribui\\u00e7\\u00e3o da Renda\",\"showlegend\":false,\"x\":[150.0,311.7,473.4,635.1,796.8,958.5,1120.2,1281.9,1443.6,1605.3,1767.0,1928.7,2090.4,2252.1,2413.8,2575.5,2737.2,2898.9,3060.6,3222.3,3384.0,3545.7,3707.4,3869.1,4030.8,4192.5,4354.2,4515.9,4677.6,4839.3,5001.0,5162.7,5324.4,5486.1,5647.8,5809.5,5971.2,6132.9,6294.6,6456.3,6618.0,6779.7,6941.4,7103.1,7264.8,7426.5,7588.2,7749.9,7911.6,8073.3,8235.0,8396.7,8558.4,8720.1,8881.8,9043.5,9205.2,9366.9,9528.6,9690.3,9852.0,10013.7,10175.4,10337.1,10498.8,10660.5,10822.2,10983.9,11145.6,11307.3,11469.0,11630.7,11792.4,11954.1,12115.8,12277.5,12439.2,12600.9,12762.6,12924.3,13086.0,13247.7,13409.4,13571.1,13732.8,13894.5,14056.2,14217.9,14379.6,14541.3,14703.0,14864.7,15026.4,15188.1,15349.8,15511.5,15673.2,15834.9,15996.6,16158.3,16320.0,16481.7,16643.4,16805.1,16966.8,17128.5,17290.2,17451.9,17613.6,17775.3,17937.0,18098.7,18260.4,18422.1,18583.8,18745.5,18907.2,19068.9,19230.6,19392.3,19554.0,19715.7,19877.4,20039.1,20200.8,20362.5,20524.2,20685.9,20847.6,21009.3,21171.0,21332.7,21494.4,21656.1,21817.8,21979.5,22141.2,22302.9,22464.6,22626.3,22788.0,22949.7,23111.4,23273.1,23434.8,23596.5,23758.2,23919.9,24081.6,24243.3,24405.0,24566.7,24728.4,24890.1,25051.8,25213.5,25375.2,25536.9,25698.6,25860.3,26022.0,26183.7,26345.4,26507.1,26668.8,26830.5,26992.2,27153.9,27315.6,27477.3,27639.0,27800.7,27962.4,28124.1,28285.8,28447.5,28609.2,28770.9,28932.6,29094.3,29256.0,29417.7,29579.4,29741.1,29902.8,30064.5,30226.2,30387.9,30549.6,30711.3,30873.0,31034.7,31196.4,31358.1,31519.8,31681.5,31843.2,32004.9,32166.6,32328.3,32490.0,32651.7,32813.4,32975.1,33136.8,33298.5,33460.2,33621.9,33783.6,33945.3,34107.0,34268.7,34430.4,34592.1,34753.8,34915.5,35077.2,35238.9,35400.6,35562.3,35724.0,35885.7,36047.4,36209.1,36370.8,36532.5,36694.2,36855.9,37017.6,37179.3,37341.0,37502.7,37664.4,37826.1,37987.8,38149.5,38311.2,38472.9,38634.6,38796.3,38958.0,39119.7,39281.4,39443.1,39604.8,39766.5,39928.2,40089.9,40251.6,40413.3,40575.0,40736.7,40898.4,41060.1,41221.8,41383.5,41545.2,41706.9,41868.6,42030.3,42192.0,42353.7,42515.4,42677.1,42838.8,43000.5,43162.2,43323.9,43485.6,43647.3,43809.0,43970.7,44132.4,44294.1,44455.8,44617.5,44779.2,44940.9,45102.6,45264.3,45426.0,45587.7,45749.4,45911.1,46072.8,46234.5,46396.2,46557.9,46719.6,46881.3,47043.0,47204.7,47366.4,47528.1,47689.8,47851.5,48013.2,48174.9,48336.6,48498.3,48660.0,48821.7,48983.4,49145.1,49306.8,49468.5,49630.2,49791.9,49953.6,50115.3,50277.0,50438.7,50600.4,50762.1,50923.8,51085.5,51247.2,51408.9,51570.6,51732.3,51894.0,52055.7,52217.4,52379.1,52540.8,52702.5,52864.2,53025.9,53187.6,53349.3,53511.0,53672.7,53834.4,53996.1,54157.8,54319.5,54481.2,54642.9,54804.6,54966.3,55128.0,55289.7,55451.4,55613.1,55774.8,55936.5,56098.2,56259.9,56421.6,56583.3,56745.0,56906.7,57068.4,57230.1,57391.8,57553.5,57715.2,57876.9,58038.6,58200.3,58362.0,58523.7,58685.4,58847.1,59008.8,59170.5,59332.2,59493.9,59655.6,59817.3,59979.0,60140.7,60302.4,60464.1,60625.8,60787.5,60949.2,61110.9,61272.6,61434.3,61596.0,61757.7,61919.4,62081.1,62242.8,62404.5,62566.2,62727.9,62889.6,63051.3,63213.0,63374.7,63536.4,63698.1,63859.8,64021.5,64183.2,64344.9,64506.6,64668.3,64830.0,64991.7,65153.4,65315.1,65476.8,65638.5,65800.2,65961.9,66123.6,66285.3,66447.0,66608.7,66770.4,66932.1,67093.8,67255.5,67417.2,67578.9,67740.6,67902.3,68064.0,68225.7,68387.4,68549.1,68710.8,68872.5,69034.2,69195.9,69357.6,69519.3,69681.0,69842.7,70004.4,70166.1,70327.8,70489.5,70651.2,70812.9,70974.6,71136.3,71298.0,71459.7,71621.4,71783.1,71944.8,72106.5,72268.2,72429.9,72591.6,72753.3,72915.0,73076.7,73238.4,73400.1,73561.8,73723.5,73885.2,74046.9,74208.6,74370.3,74532.0,74693.7,74855.4,75017.1,75178.8,75340.5,75502.2,75663.9,75825.6,75987.3,76149.0,76310.7,76472.4,76634.1,76795.8,76957.5,77119.2,77280.9,77442.6,77604.3,77766.0,77927.7,78089.4,78251.1,78412.8,78574.5,78736.2,78897.9,79059.6,79221.3,79383.0,79544.7,79706.4,79868.1,80029.8,80191.5,80353.2,80514.9,80676.6,80838.3],\"xaxis\":\"x\",\"y\":[4.085410288407991e-05,4.6462520823255105e-05,5.248521794821733e-05,5.88897261508888e-05,6.563174840742595e-05,7.265516736540706e-05,7.989249557427938e-05,8.72657901267675e-05,9.468803156762182e-05,0.00010206494200527987,0.00010929719202014862,0.00011628292194618066,0.00012292048217446908,0.0001291112809211275,0.00013476261777038633,0.00013979037819381517,0.00014412146859982028,0.00014769588316766721,0.00015046831208781347,0.000152409224669262,0.00015350538846621779,0.00015375981521202563,0.0001531911538891475,0.00015183257871053562,0.00014973024334558684,0.00014694139094681367,0.00014353222143313694,0.00013957562259704466,0.00013514886999973415,0.00013033139288118797,0.00012520269045111323,0.00011984046627044545,0.00011431902949517829,0.00010870799209116325,0.00010307127220395239,9.746639693549201e-05,9.194408379505851e-05,8.654806965960327e-05,8.131514943660681e-05,7.62753836630003e-05,7.14524345949788e-05,6.686399332386045e-05,6.252226533756118e-05,5.8434487936900536e-05,5.460345925042521e-05,5.1028064616411844e-05,4.770379131559864e-05,4.462322672124151e-05,4.1776537744396654e-05,3.9151931017365095e-05,3.6736093736477654e-05,3.45146147296741e-05,3.247238442662926e-05,3.0593971298376307e-05,2.88639712791379e-05,2.7267325908914238e-05,2.5789604592327767e-05,2.441724653011275e-05,2.3137758542870483e-05,2.1939866107507028e-05,2.0813616353470614e-05,1.9750433378751518e-05,1.8743127895635912e-05,1.778586476233146e-05,1.687409327937817e-05,1.600444614110977e-05,1.5174613580695769e-05,1.4383199518108397e-05,1.3629566433614044e-05,1.2913675293138235e-05,1.2235926214141691e-05,1.159700476027849e-05,1.0997737870413302e-05,1.0438962536094348e-05,9.921409501460887e-06,9.445603513235872e-06,9.011781018826617e-06,8.619825701769848e-06,8.269221844156774e-06,7.959025192458863e-06,7.687850747989078e-06,7.4538766778689405e-06,7.2548633237765935e-06,7.088186059674127e-06,6.950880512525389e-06,6.83969841855548e-06,6.7511721571817965e-06,6.681685805750627e-06,6.6275504119460135e-06,6.5850811052430665e-06,6.5506736753844015e-06,6.5208783370311685e-06,6.4924685685973755e-06,6.4625031448241876e-06,6.428379756489292e-06,6.387878904631386e-06,6.339197050853865e-06,6.280968285386565e-06,6.212274034412037e-06,6.132640570332863e-06,6.0420243236811985e-06,5.940785239042063e-06,5.8296486869099716e-06,5.709656753065487e-06,5.582110083806085e-06,5.4485018654900415e-06,5.310445944102288e-06,5.169601516174551e-06,5.027597207199598e-06,4.885957651973504e-06,4.746035856192095e-06,4.608954608100729e-06,4.475559991930612e-06,4.346389616233739e-06,4.221657514832198e-06,4.101256832155135e-06,3.984780415259021e-06,3.871558366594925e-06,3.7607105420445037e-06,3.651210991286239e-06,3.54196051385296e-06,3.431862916443209e-06,3.319900260583414e-06,3.2052024175460004e-06,3.087106606206187e-06,2.965203258393835e-06,2.8393654881117127e-06,2.7097605661121063e-06,2.5768430335907044e-06,2.441330333029763e-06,2.304162994762892e-06,2.166452406703044e-06,2.0294199393356906e-06,1.8943316474565376e-06,1.7624328985928555e-06,1.634887086937466e-06,1.5127221083102503e-06,1.3967875462240174e-06,1.2877246191282188e-06,1.1859499427781756e-06,1.0916531514937697e-06,1.0048074763014043e-06,9.25191564983221e-07,8.524202019858932e-07,7.859811792669944e-07,7.252753963780481e-07,6.696573232236167e-07,6.184732178306898e-07,5.710949154817314e-07,5.269475461377893e-07,4.855301407229752e-07,4.4642870019226706e-07,4.093218756713684e-07,3.7397990303796564e-07,3.402578217884831e-07,3.080842689068759e-07,2.7744726913320195e-07,2.483784502865467e-07,2.209370122832701e-07,1.951945941523828e-07,1.7122194151790442e-07,1.4907800552060037e-07,1.2880182920606764e-07,1.1040732152206644e-07,9.388079959088388e-08,7.918100827551013e-08,6.624120765350132e-08,5.4972853739737776e-08,4.527038095559839e-08,3.701661833549474e-08,3.008842512749416e-08,2.4362204324681326e-08,1.9719034131328776e-08,1.6049238021184344e-08,1.3256286330149805e-08,1.1259980886841785e-08,9.998915970579499e-09,9.432233055236227e-09,9.54069447414627e-09,1.0327095079168597e-08,1.1816015154962867e-08,1.4052897096152398e-08,1.7102407867543993e-08,2.104603423343911e-08,2.597885291615762e-08,3.200542714376676e-08,3.923480716484844e-08,4.777465635706355e-08,5.772458578006054e-08,6.916885560791146e-08,8.21686869072817e-08,9.675451483496525e-08,1.1291859605012734e-07,1.3060844951164966e-07,1.4972165120549988e-07,1.7010251084424962e-07,1.9154112515224367e-07,2.1377522379952785e-07,2.3649509990137783e-07,2.593517510944197e-07,2.819681578757732e-07,3.0395340571910565e-07,3.2491913248957785e-07,3.444975711214242e-07,3.6236027827429883e-07,3.782365104342351e-07,3.9193014433187554e-07,4.0333404859727074e-07,4.124409023004763e-07,4.193496208325023e-07,4.242667811469569e-07,4.275027213170431e-07,4.2946230346150037e-07,4.306306511161928e-07,4.3155447789721527e-07,4.3281989090228835e-07,4.3502776015045505e-07,4.3876787994930104e-07,4.445932011643072e-07,4.529953835713118e-07,4.6438281021042496e-07,4.790620324050372e-07,4.972233911407097e-07,5.189313072230233e-07,5.441194696850778e-07,5.725908992131753e-07,6.040226383125666e-07,6.379746359661831e-07,6.739022600599792e-07,7.111717887811037e-07,7.49078200078145e-07,7.868645889333395e-07,8.237425849119116e-07,8.589132044757408e-07,8.915876408171107e-07,9.21007556815508e-07,9.464644953622555e-07,9.673180509236095e-07,9.83012456534502e-07,9.930912355888066e-07,9.972095557199528e-07,9.95143913153329e-07,9.86798781441981e-07,9.722098888383177e-07,9.515438514467968e-07,9.250939884642976e-07,8.932722800706526e-07,8.565975915953682e-07,8.156804685395643e-07,7.712049914458024e-07,7.239083511613518e-07,6.745589474208286e-07,6.23933912514297e-07,5.727970063945859e-07,5.218778141296838e-07,4.7185310094483333e-07,4.2333104966262997e-07,3.7683893055768735e-07,3.328145487142724e-07,2.9160159537356674e-07,2.5344881446053506e-07,2.185126992986792e-07,1.8686327064826687e-07,1.5849236515427047e-07,1.3332378830885834e-07,1.1122465899926125e-07,9.201729049869478e-08,7.549100895999936e-08,6.141339637073543e-08,4.954055057190437e-08,3.9626070194592184e-08,3.1428587831995294e-08,2.4717782487938107e-08,1.9278896279379038e-08,1.491585657004149e-08,1.1453161281996035e-08,8.736722001882423e-09,6.633878056444705e-09,5.0327973887597126e-09,3.841469809555342e-09,2.9864781842609326e-09,2.4117063390378814e-09,2.077111520155152e-09,1.957656178680176e-09,2.042460167778036e-09,2.3342011125678067e-09,2.848758334345535e-09,3.615064655556922e-09,4.675101023974602e-09,6.083941674287943e-09,7.909733301821078e-09,1.0233471674141296e-08,1.3148424904773e-08,1.6759046285714304e-08,2.1179223366051812e-08,2.6529726085778863e-08,3.293474708267129e-08,4.0517472906839703e-08,4.9394685800989476e-08,5.96704704624572e-08,7.142918560227729e-08,8.472795114533263e-08,9.958899185136097e-08,1.1599225888841606e-07,1.3386881358421985e-07,1.5309549336175422e-07,1.7349138085696364e-07,1.9481655754299889e-07,2.1677353994081604e-07,2.390116705241292e-07,2.611345717888174e-07,2.827105799791753e-07,3.032858678022584e-07,3.223997591791787e-07,3.3960155128820324e-07,3.544680073352825e-07,3.6662058319541043e-07,3.757414141782999e-07,3.815871214242902e-07,3.839996014547287e-07,3.8291313133568255e-07,3.7835734378016605e-07,3.7045588421363414e-07,3.5942083475113286e-07,3.4554325607049867e-07,3.291804358832904e-07,3.1074062345689616e-07,2.9066615934650613e-07,2.6941596989719226e-07,2.4744838534534955e-07,2.2520516298738593e-07,2.0309746296732946e-07,1.8149434811548388e-07,1.6071417791443845e-07,1.410190578492744e-07,1.2261230594698612e-07,1.0563872262125481e-07,9.018730887289092e-08,7.62959781544649e-08,6.395775120067455e-08,5.312790929190735e-08,4.3731604897292796e-08,3.5671482189247824e-08,2.8834934916447216e-08,2.310071657182129e-08,1.8344709193540245e-08,1.444474514915822e-08,1.1284455132185581e-08,8.756181392869047e-09,6.76304574599959e-09,5.220296537629648e-09,4.056078164150405e-09,3.2117724745671107e-09,2.6420555333947476e-09,2.3147980639190824e-09,2.2109156653028594e-09,2.3242476228002246e-09,2.6615125430060674e-09,3.24235660881401e-09,4.09947723451558e-09,5.278772516965927e-09,6.83943640278331e-09,8.853892397810206e-09,1.1407436681024769e-08,1.4597446682824953e-08,1.8532005789046364e-08,2.332780112086213e-08,2.910717138445393e-08,3.599421710524413e-08,4.4109936766638074e-08,5.356641878975994e-08,6.446019866010557e-08,7.686497879743033e-08,9.082400015774512e-08,1.0634244164910468e-07,1.2338029769611688e-07,1.4184623670437462e-07,1.615929651760236e-07,1.8241460664769746e-07,2.0404654672752371e-07,2.2616809389690718e-07,2.4840816300821007e-07,2.7035401143866955e-07,2.915628576833523e-07,3.115760033125006e-07,3.2993487858669356e-07,3.461982573918201e-07,3.599597554160525e-07,3.7086465084164397e-07,3.786250591232975e-07,3.8303255691136427e-07,3.8396748274212224e-07,3.814043352319877e-07,3.754129288687181e-07,3.661552342830438e-07,3.5387810260314896e-07,3.389023300503707e-07,3.216087388307137e-07,3.024221167063925e-07,2.8179395865887347e-07,2.6018498420794947e-07,2.380483641300906e-07,2.1581448750912207e-07,1.938779463190823e-07,1.7258722575356125e-07,1.5223738180333372e-07,1.3306578071534728e-07,1.1525078389575376e-07,9.891309954497769e-08,8.411939796857152e-08,7.088770595230607e-08,5.919405747349927e-08,4.897988026601083e-08,4.015963435294432e-08,3.262828163745286e-08,2.6268246090510116e-08,2.095561310828049e-08,1.6565406162922344e-08,1.2975862272362133e-08,1.007170014104834e-08,7.746432998917091e-09,5.903820871515516e-09,4.458584447008761e-09,3.3365162395439767e-09,2.4741265565223962e-09,1.8179544628950303e-09,1.3236602056787376e-09,9.549979686474317e-10,6.827485865561986e-10,4.83672735388238e-10,3.395274274695237e-10,2.361732149379743e-10,1.6278677369388325e-10,1.1118360606315824e-10,7.524832454173754e-11,5.046506163928349e-11,3.353760527291814e-11,2.2087470217098952e-11,1.4417883483572044e-11,9.332228140077743e-12,5.996557757483981e-12,3.837128406041334e-12,2.46532524526365e-12,1.6237704499347514e-12,1.1487196249437167e-12,9.450535117355867e-13,9.71247486323641e-13,1.2326701699016098e-12,1.7824550816956347e-12,2.7300444612884903e-12,4.2583645813008636e-12,6.651499000230313e-12,1.0335717605741573e-11,1.5937822995247232e-11,2.436600473091483e-11,3.69197372670307e-11,5.543667953425799e-11,8.24859543205412e-11,1.2161847561296464e-10,1.776859662188144e-10,2.572407172442075e-10,3.690276726298714e-10,5.245787069712492e-10,7.38915596449595e-10,1.0313627479002513e-09,1.4264628776337604e-09,1.954978250437834e-09,2.654946709785771e-09,3.572745725124711e-09,4.764099571109677e-09,6.294945477407131e-09,8.242055555233415e-09,1.0693294401598602e-08,1.3747379810699566e-08,1.7513008591449112e-08,2.2107213809400282e-08,2.7652836374483986e-08,3.4275024804045676e-08,4.209672333616068e-08,5.123317022217249e-08,6.178550327880892e-08,7.383365512332842e-08,8.742881060051638e-08,1.0258578670491474e-07,1.1927577248609724e-07,1.374199240290933e-07,1.568843388469495e-07,1.7747692730208826e-07,1.98946650578083e-07,2.2098550298443655e-07,2.432334825956137e-07,2.652866242682611e-07,2.8670797303826266e-07,3.0704116755662164e-07,3.2582609904594146e-07,3.4261592896461804e-07,3.5699460540954953e-07,3.6859392925072684e-07,3.7710919707101685e-07,3.823124948176258e-07],\"yaxis\":\"y\",\"type\":\"scatter\"},{\"legendgroup\":\"Distribui\\u00e7\\u00e3o da Renda\",\"marker\":{\"color\":\"rgb(31, 119, 180)\",\"symbol\":\"line-ns-open\"},\"mode\":\"markers\",\"name\":\"Distribui\\u00e7\\u00e3o da Renda\",\"showlegend\":false,\"x\":[5849,4583,3000,2583,6000,5417,2333,3036,4006,12841,3200,2500,3073,1853,1299,4950,3596,3510,4887,2600,7660,5955,2600,3365,3717,9560,2799,4226,1442,3750,4166,3167,4692,3500,12500,2275,1828,3667,4166,3748,3600,1800,2400,3941,4695,3410,5649,5821,2645,4000,1928,3086,4230,4616,11500,2708,2132,3366,8080,3357,2500,3029,2609,4945,4166,5726,3200,10750,7100,4300,3208,1875,3500,4755,5266,3750,3750,1000,3167,3333,3846,2395,1378,6000,3988,2366,3333,2500,8566,5695,2958,6250,3273,4133,3620,6782,2484,1977,4188,1759,4288,4843,13650,4652,3816,3052,11417,7333,3800,2071,5316,2929,3572,7451,5050,14583,3167,2214,5568,10408,5667,4166,2137,2957,4300,3692,23803,3865,10513,6080,20166,2014,2718,3459,4895,4000,4583,3316,14999,4200,5042,5417,6950,2698,11757,2330,14866,1538,10000,4860,6277,2577,9166,2281,3254,39999,6000,9538,2980,4583,1863,7933,3089,4167,9323,3707,4583,2439,2237,8000,1820,51763,3522,5708,4344,3497,2045,5516,3750,2333,6400,1916,4600,33846,3625,39147,2178,2383,674,9328,4885,12000,6033,3858,4191,3125,8333,1907,3416,11000,2600,4923,3992,3500,3917,4408,3244,3975,2479,3418,10000,3430,7787,5703,3173,3850,150,3727,5000,4283,2221,4009,2971,7578,6250,3250,4735,6250,4758,6400,2491,3716,3189,8333,3155,5500,5746,3463,3812,3315,5819,2510,2965,6250,3406,6050,9703,6608,2882,1809,1668,3427,2583,2661,16250,3083,6045,5250,14683,4931,6083,2060,3481,7200,5166,4095,4708,4333,3418,2876,3237,11146,2833,2620,3900,2750,3993,3103,14583,4100,4053,3927,2301,1811,20667,3158,2600,3704,4124,9508,3075,4400,3153,5417,2383,4416,6875,4666,5000,2014,1800,2875,5000,1625,4000,2000,3762,2400,20233,7667,2917,2927,2507,5746,2473,3399,3717,2058,3541,10000,2400,4342,3601,3166,15000,8666,4917,5818,4333,2500,4384,2935,2833,63337,9833,5503,5250,2500,1830,4160,2647,2378,4554,3173,2583,2499,3523,3083,6333,2625,9083,8750,2666,5500,2423,3813,8333,3875,3000,5167,4723,5000,4750,3013,6822,6216,2500,5124,6325,19730,15759,5185,9323,3062,2764,4817,8750,4310,3069,5391,3333,5941,6000,7167,4566,3667,2346,3010,2333,5488,9167,9504,2583,1993,3100,3276,3180,3033,3902,1500,2889,2755,2500,1963,7441,4547,2167,2213,8300,81000,3867,6256,6096,2253,2149,2995,2600,1600,1025,3246,5829,2720,1820,7250,14880,2666,4606,5935,2920,2717,8624,6500,12876,2425,3750,10047,1926,2213,10416,7142,3660,7901,4707,37719,7333,3466,4652,3539,3340,2769,2309,1958,3948,2483,7085,3859,4301,3708,4354,8334,2083,7740,3015,5191,4166,6000,2947,16692,210,4333,3450,2653,4691,2500,5532,16525,6700,2873,16667,2947,4350,3095,2083,10833,8333,1958,3547,18333,4583,2435,2699,5333,3691,17263,3597,3326,2600,4625,2895,6283,645,3159,4865,4050,3814,3510,20833,3583,2479,13262,3598,6065,3283,2130,5815,3466,2031,3074,4683,3400,2192,2500,5677,7948,4680,17500,3775,5285,2679,6783,1025,4281,3588,11250,18165,2550,6133,3617,2917,6417,4608,2138,3652,2239,3017,2768,3358,2526,5000,2785,6633,2492,3333,2454,3593,5468,2667,10139,3887,4180,3675,19484,5923,5800,8799,4467,3333,3400,2378,3166,3417,5116,16666,6125,6406,3159,3087,3229,1782,3182,6540,1836,3166,1880,2787,4283,2297,2165,4750,2726,3000,6000,9357,3859,16120,3833,6383,2987,9963,5780,416,2894,5703,3676,12000,2400,3400,3987,3232,2900,4106,8072,7583,4583],\"xaxis\":\"x\",\"y\":[\"Distribui\\u00e7\\u00e3o da Renda\",\"Distribui\\u00e7\\u00e3o da Renda\",\"Distribui\\u00e7\\u00e3o da Renda\",\"Distribui\\u00e7\\u00e3o da Renda\",\"Distribui\\u00e7\\u00e3o da Renda\",\"Distribui\\u00e7\\u00e3o da Renda\",\"Distribui\\u00e7\\u00e3o da Renda\",\"Distribui\\u00e7\\u00e3o da Renda\",\"Distribui\\u00e7\\u00e3o da Renda\",\"Distribui\\u00e7\\u00e3o da Renda\",\"Distribui\\u00e7\\u00e3o da Renda\",\"Distribui\\u00e7\\u00e3o da Renda\",\"Distribui\\u00e7\\u00e3o da Renda\",\"Distribui\\u00e7\\u00e3o da Renda\",\"Distribui\\u00e7\\u00e3o da Renda\",\"Distribui\\u00e7\\u00e3o da Renda\",\"Distribui\\u00e7\\u00e3o da Renda\",\"Distribui\\u00e7\\u00e3o da Renda\",\"Distribui\\u00e7\\u00e3o da Renda\",\"Distribui\\u00e7\\u00e3o da Renda\",\"Distribui\\u00e7\\u00e3o da Renda\",\"Distribui\\u00e7\\u00e3o da Renda\",\"Distribui\\u00e7\\u00e3o da Renda\",\"Distribui\\u00e7\\u00e3o da Renda\",\"Distribui\\u00e7\\u00e3o da Renda\",\"Distribui\\u00e7\\u00e3o da Renda\",\"Distribui\\u00e7\\u00e3o da Renda\",\"Distribui\\u00e7\\u00e3o da Renda\",\"Distribui\\u00e7\\u00e3o da Renda\",\"Distribui\\u00e7\\u00e3o da Renda\",\"Distribui\\u00e7\\u00e3o da Renda\",\"Distribui\\u00e7\\u00e3o da Renda\",\"Distribui\\u00e7\\u00e3o da Renda\",\"Distribui\\u00e7\\u00e3o da Renda\",\"Distribui\\u00e7\\u00e3o da Renda\",\"Distribui\\u00e7\\u00e3o da Renda\",\"Distribui\\u00e7\\u00e3o da Renda\",\"Distribui\\u00e7\\u00e3o da Renda\",\"Distribui\\u00e7\\u00e3o da Renda\",\"Distribui\\u00e7\\u00e3o da Renda\",\"Distribui\\u00e7\\u00e3o da Renda\",\"Distribui\\u00e7\\u00e3o da Renda\",\"Distribui\\u00e7\\u00e3o da Renda\",\"Distribui\\u00e7\\u00e3o da Renda\",\"Distribui\\u00e7\\u00e3o da Renda\",\"Distribui\\u00e7\\u00e3o da Renda\",\"Distribui\\u00e7\\u00e3o da Renda\",\"Distribui\\u00e7\\u00e3o da Renda\",\"Distribui\\u00e7\\u00e3o da Renda\",\"Distribui\\u00e7\\u00e3o da Renda\",\"Distribui\\u00e7\\u00e3o da Renda\",\"Distribui\\u00e7\\u00e3o da Renda\",\"Distribui\\u00e7\\u00e3o da Renda\",\"Distribui\\u00e7\\u00e3o da Renda\",\"Distribui\\u00e7\\u00e3o da Renda\",\"Distribui\\u00e7\\u00e3o da Renda\",\"Distribui\\u00e7\\u00e3o da Renda\",\"Distribui\\u00e7\\u00e3o da Renda\",\"Distribui\\u00e7\\u00e3o da Renda\",\"Distribui\\u00e7\\u00e3o da Renda\",\"Distribui\\u00e7\\u00e3o da Renda\",\"Distribui\\u00e7\\u00e3o da Renda\",\"Distribui\\u00e7\\u00e3o da Renda\",\"Distribui\\u00e7\\u00e3o da Renda\",\"Distribui\\u00e7\\u00e3o da Renda\",\"Distribui\\u00e7\\u00e3o da Renda\",\"Distribui\\u00e7\\u00e3o da Renda\",\"Distribui\\u00e7\\u00e3o da Renda\",\"Distribui\\u00e7\\u00e3o da Renda\",\"Distribui\\u00e7\\u00e3o da Renda\",\"Distribui\\u00e7\\u00e3o da Renda\",\"Distribui\\u00e7\\u00e3o da Renda\",\"Distribui\\u00e7\\u00e3o da Renda\",\"Distribui\\u00e7\\u00e3o da Renda\",\"Distribui\\u00e7\\u00e3o da Renda\",\"Distribui\\u00e7\\u00e3o da Renda\",\"Distribui\\u00e7\\u00e3o da Renda\",\"Distribui\\u00e7\\u00e3o da Renda\",\"Distribui\\u00e7\\u00e3o da Renda\",\"Distribui\\u00e7\\u00e3o da Renda\",\"Distribui\\u00e7\\u00e3o da Renda\",\"Distribui\\u00e7\\u00e3o da Renda\",\"Distribui\\u00e7\\u00e3o da Renda\",\"Distribui\\u00e7\\u00e3o da Renda\",\"Distribui\\u00e7\\u00e3o da Renda\",\"Distribui\\u00e7\\u00e3o da Renda\",\"Distribui\\u00e7\\u00e3o da Renda\",\"Distribui\\u00e7\\u00e3o da Renda\",\"Distribui\\u00e7\\u00e3o da Renda\",\"Distribui\\u00e7\\u00e3o da Renda\",\"Distribui\\u00e7\\u00e3o da Renda\",\"Distribui\\u00e7\\u00e3o da Renda\",\"Distribui\\u00e7\\u00e3o da Renda\",\"Distribui\\u00e7\\u00e3o da Renda\",\"Distribui\\u00e7\\u00e3o da Renda\",\"Distribui\\u00e7\\u00e3o da Renda\",\"Distribui\\u00e7\\u00e3o da Renda\",\"Distribui\\u00e7\\u00e3o da Renda\",\"Distribui\\u00e7\\u00e3o da Renda\",\"Distribui\\u00e7\\u00e3o da Renda\",\"Distribui\\u00e7\\u00e3o da Renda\",\"Distribui\\u00e7\\u00e3o da Renda\",\"Distribui\\u00e7\\u00e3o da Renda\",\"Distribui\\u00e7\\u00e3o da Renda\",\"Distribui\\u00e7\\u00e3o da Renda\",\"Distribui\\u00e7\\u00e3o da Renda\",\"Distribui\\u00e7\\u00e3o da Renda\",\"Distribui\\u00e7\\u00e3o da Renda\",\"Distribui\\u00e7\\u00e3o da Renda\",\"Distribui\\u00e7\\u00e3o da Renda\",\"Distribui\\u00e7\\u00e3o da Renda\",\"Distribui\\u00e7\\u00e3o da Renda\",\"Distribui\\u00e7\\u00e3o da Renda\",\"Distribui\\u00e7\\u00e3o da Renda\",\"Distribui\\u00e7\\u00e3o da Renda\",\"Distribui\\u00e7\\u00e3o da Renda\",\"Distribui\\u00e7\\u00e3o da Renda\",\"Distribui\\u00e7\\u00e3o da Renda\",\"Distribui\\u00e7\\u00e3o da Renda\",\"Distribui\\u00e7\\u00e3o da Renda\",\"Distribui\\u00e7\\u00e3o da Renda\",\"Distribui\\u00e7\\u00e3o da Renda\",\"Distribui\\u00e7\\u00e3o da Renda\",\"Distribui\\u00e7\\u00e3o da Renda\",\"Distribui\\u00e7\\u00e3o da Renda\",\"Distribui\\u00e7\\u00e3o da Renda\",\"Distribui\\u00e7\\u00e3o da Renda\",\"Distribui\\u00e7\\u00e3o da Renda\",\"Distribui\\u00e7\\u00e3o da Renda\",\"Distribui\\u00e7\\u00e3o da Renda\",\"Distribui\\u00e7\\u00e3o da Renda\",\"Distribui\\u00e7\\u00e3o da Renda\",\"Distribui\\u00e7\\u00e3o da Renda\",\"Distribui\\u00e7\\u00e3o da Renda\",\"Distribui\\u00e7\\u00e3o da Renda\",\"Distribui\\u00e7\\u00e3o da Renda\",\"Distribui\\u00e7\\u00e3o da Renda\",\"Distribui\\u00e7\\u00e3o da Renda\",\"Distribui\\u00e7\\u00e3o da Renda\",\"Distribui\\u00e7\\u00e3o da Renda\",\"Distribui\\u00e7\\u00e3o da Renda\",\"Distribui\\u00e7\\u00e3o da Renda\",\"Distribui\\u00e7\\u00e3o da Renda\",\"Distribui\\u00e7\\u00e3o da Renda\",\"Distribui\\u00e7\\u00e3o da Renda\",\"Distribui\\u00e7\\u00e3o da Renda\",\"Distribui\\u00e7\\u00e3o da Renda\",\"Distribui\\u00e7\\u00e3o da Renda\",\"Distribui\\u00e7\\u00e3o da Renda\",\"Distribui\\u00e7\\u00e3o da Renda\",\"Distribui\\u00e7\\u00e3o da Renda\",\"Distribui\\u00e7\\u00e3o da Renda\",\"Distribui\\u00e7\\u00e3o da Renda\",\"Distribui\\u00e7\\u00e3o da Renda\",\"Distribui\\u00e7\\u00e3o da Renda\",\"Distribui\\u00e7\\u00e3o da Renda\",\"Distribui\\u00e7\\u00e3o da Renda\",\"Distribui\\u00e7\\u00e3o da Renda\",\"Distribui\\u00e7\\u00e3o da Renda\",\"Distribui\\u00e7\\u00e3o da Renda\",\"Distribui\\u00e7\\u00e3o da Renda\",\"Distribui\\u00e7\\u00e3o da Renda\",\"Distribui\\u00e7\\u00e3o da Renda\",\"Distribui\\u00e7\\u00e3o da Renda\",\"Distribui\\u00e7\\u00e3o da Renda\",\"Distribui\\u00e7\\u00e3o da Renda\",\"Distribui\\u00e7\\u00e3o da Renda\",\"Distribui\\u00e7\\u00e3o da Renda\",\"Distribui\\u00e7\\u00e3o da Renda\",\"Distribui\\u00e7\\u00e3o da Renda\",\"Distribui\\u00e7\\u00e3o da Renda\",\"Distribui\\u00e7\\u00e3o da Renda\",\"Distribui\\u00e7\\u00e3o da Renda\",\"Distribui\\u00e7\\u00e3o da Renda\",\"Distribui\\u00e7\\u00e3o da Renda\",\"Distribui\\u00e7\\u00e3o da Renda\",\"Distribui\\u00e7\\u00e3o da Renda\",\"Distribui\\u00e7\\u00e3o da Renda\",\"Distribui\\u00e7\\u00e3o da Renda\",\"Distribui\\u00e7\\u00e3o da Renda\",\"Distribui\\u00e7\\u00e3o da Renda\",\"Distribui\\u00e7\\u00e3o da Renda\",\"Distribui\\u00e7\\u00e3o da Renda\",\"Distribui\\u00e7\\u00e3o da Renda\",\"Distribui\\u00e7\\u00e3o da Renda\",\"Distribui\\u00e7\\u00e3o da Renda\",\"Distribui\\u00e7\\u00e3o da Renda\",\"Distribui\\u00e7\\u00e3o da Renda\",\"Distribui\\u00e7\\u00e3o da Renda\",\"Distribui\\u00e7\\u00e3o da Renda\",\"Distribui\\u00e7\\u00e3o da Renda\",\"Distribui\\u00e7\\u00e3o da Renda\",\"Distribui\\u00e7\\u00e3o da Renda\",\"Distribui\\u00e7\\u00e3o da Renda\",\"Distribui\\u00e7\\u00e3o da Renda\",\"Distribui\\u00e7\\u00e3o da Renda\",\"Distribui\\u00e7\\u00e3o da Renda\",\"Distribui\\u00e7\\u00e3o da Renda\",\"Distribui\\u00e7\\u00e3o da Renda\",\"Distribui\\u00e7\\u00e3o da Renda\",\"Distribui\\u00e7\\u00e3o da Renda\",\"Distribui\\u00e7\\u00e3o da Renda\",\"Distribui\\u00e7\\u00e3o da Renda\",\"Distribui\\u00e7\\u00e3o da Renda\",\"Distribui\\u00e7\\u00e3o da Renda\",\"Distribui\\u00e7\\u00e3o da Renda\",\"Distribui\\u00e7\\u00e3o da Renda\",\"Distribui\\u00e7\\u00e3o da Renda\",\"Distribui\\u00e7\\u00e3o da Renda\",\"Distribui\\u00e7\\u00e3o da Renda\",\"Distribui\\u00e7\\u00e3o da Renda\",\"Distribui\\u00e7\\u00e3o da Renda\",\"Distribui\\u00e7\\u00e3o da Renda\",\"Distribui\\u00e7\\u00e3o da Renda\",\"Distribui\\u00e7\\u00e3o da Renda\",\"Distribui\\u00e7\\u00e3o da Renda\",\"Distribui\\u00e7\\u00e3o da Renda\",\"Distribui\\u00e7\\u00e3o da Renda\",\"Distribui\\u00e7\\u00e3o da Renda\",\"Distribui\\u00e7\\u00e3o da Renda\",\"Distribui\\u00e7\\u00e3o da Renda\",\"Distribui\\u00e7\\u00e3o da Renda\",\"Distribui\\u00e7\\u00e3o da Renda\",\"Distribui\\u00e7\\u00e3o da Renda\",\"Distribui\\u00e7\\u00e3o da Renda\",\"Distribui\\u00e7\\u00e3o da Renda\",\"Distribui\\u00e7\\u00e3o da Renda\",\"Distribui\\u00e7\\u00e3o da Renda\",\"Distribui\\u00e7\\u00e3o da Renda\",\"Distribui\\u00e7\\u00e3o da Renda\",\"Distribui\\u00e7\\u00e3o da Renda\",\"Distribui\\u00e7\\u00e3o da Renda\",\"Distribui\\u00e7\\u00e3o da Renda\",\"Distribui\\u00e7\\u00e3o da Renda\",\"Distribui\\u00e7\\u00e3o da Renda\",\"Distribui\\u00e7\\u00e3o da Renda\",\"Distribui\\u00e7\\u00e3o da Renda\",\"Distribui\\u00e7\\u00e3o da Renda\",\"Distribui\\u00e7\\u00e3o da Renda\",\"Distribui\\u00e7\\u00e3o da Renda\",\"Distribui\\u00e7\\u00e3o da Renda\",\"Distribui\\u00e7\\u00e3o da Renda\",\"Distribui\\u00e7\\u00e3o da Renda\",\"Distribui\\u00e7\\u00e3o da Renda\",\"Distribui\\u00e7\\u00e3o da Renda\",\"Distribui\\u00e7\\u00e3o da Renda\",\"Distribui\\u00e7\\u00e3o da Renda\",\"Distribui\\u00e7\\u00e3o da Renda\",\"Distribui\\u00e7\\u00e3o da Renda\",\"Distribui\\u00e7\\u00e3o da Renda\",\"Distribui\\u00e7\\u00e3o da Renda\",\"Distribui\\u00e7\\u00e3o da Renda\",\"Distribui\\u00e7\\u00e3o da Renda\",\"Distribui\\u00e7\\u00e3o da Renda\",\"Distribui\\u00e7\\u00e3o da Renda\",\"Distribui\\u00e7\\u00e3o da Renda\",\"Distribui\\u00e7\\u00e3o da Renda\",\"Distribui\\u00e7\\u00e3o da Renda\",\"Distribui\\u00e7\\u00e3o da Renda\",\"Distribui\\u00e7\\u00e3o da Renda\",\"Distribui\\u00e7\\u00e3o da Renda\",\"Distribui\\u00e7\\u00e3o da Renda\",\"Distribui\\u00e7\\u00e3o da Renda\",\"Distribui\\u00e7\\u00e3o da Renda\",\"Distribui\\u00e7\\u00e3o da Renda\",\"Distribui\\u00e7\\u00e3o da Renda\",\"Distribui\\u00e7\\u00e3o da Renda\",\"Distribui\\u00e7\\u00e3o da Renda\",\"Distribui\\u00e7\\u00e3o da Renda\",\"Distribui\\u00e7\\u00e3o da Renda\",\"Distribui\\u00e7\\u00e3o da Renda\",\"Distribui\\u00e7\\u00e3o da Renda\",\"Distribui\\u00e7\\u00e3o da Renda\",\"Distribui\\u00e7\\u00e3o da Renda\",\"Distribui\\u00e7\\u00e3o da Renda\",\"Distribui\\u00e7\\u00e3o da Renda\",\"Distribui\\u00e7\\u00e3o da Renda\",\"Distribui\\u00e7\\u00e3o da Renda\",\"Distribui\\u00e7\\u00e3o da Renda\",\"Distribui\\u00e7\\u00e3o da Renda\",\"Distribui\\u00e7\\u00e3o da Renda\",\"Distribui\\u00e7\\u00e3o da Renda\",\"Distribui\\u00e7\\u00e3o da Renda\",\"Distribui\\u00e7\\u00e3o da Renda\",\"Distribui\\u00e7\\u00e3o da Renda\",\"Distribui\\u00e7\\u00e3o da Renda\",\"Distribui\\u00e7\\u00e3o da Renda\",\"Distribui\\u00e7\\u00e3o da Renda\",\"Distribui\\u00e7\\u00e3o da Renda\",\"Distribui\\u00e7\\u00e3o da Renda\",\"Distribui\\u00e7\\u00e3o da Renda\",\"Distribui\\u00e7\\u00e3o da Renda\",\"Distribui\\u00e7\\u00e3o da Renda\",\"Distribui\\u00e7\\u00e3o da Renda\",\"Distribui\\u00e7\\u00e3o da Renda\",\"Distribui\\u00e7\\u00e3o da Renda\",\"Distribui\\u00e7\\u00e3o da Renda\",\"Distribui\\u00e7\\u00e3o da Renda\",\"Distribui\\u00e7\\u00e3o da Renda\",\"Distribui\\u00e7\\u00e3o da Renda\",\"Distribui\\u00e7\\u00e3o da Renda\",\"Distribui\\u00e7\\u00e3o da Renda\",\"Distribui\\u00e7\\u00e3o da Renda\",\"Distribui\\u00e7\\u00e3o da Renda\",\"Distribui\\u00e7\\u00e3o da Renda\",\"Distribui\\u00e7\\u00e3o da Renda\",\"Distribui\\u00e7\\u00e3o da Renda\",\"Distribui\\u00e7\\u00e3o da Renda\",\"Distribui\\u00e7\\u00e3o da Renda\",\"Distribui\\u00e7\\u00e3o da Renda\",\"Distribui\\u00e7\\u00e3o da Renda\",\"Distribui\\u00e7\\u00e3o da Renda\",\"Distribui\\u00e7\\u00e3o da Renda\",\"Distribui\\u00e7\\u00e3o da Renda\",\"Distribui\\u00e7\\u00e3o da Renda\",\"Distribui\\u00e7\\u00e3o da Renda\",\"Distribui\\u00e7\\u00e3o da Renda\",\"Distribui\\u00e7\\u00e3o da Renda\",\"Distribui\\u00e7\\u00e3o da Renda\",\"Distribui\\u00e7\\u00e3o da Renda\",\"Distribui\\u00e7\\u00e3o da Renda\",\"Distribui\\u00e7\\u00e3o da Renda\",\"Distribui\\u00e7\\u00e3o da Renda\",\"Distribui\\u00e7\\u00e3o da Renda\",\"Distribui\\u00e7\\u00e3o da Renda\",\"Distribui\\u00e7\\u00e3o da Renda\",\"Distribui\\u00e7\\u00e3o da Renda\",\"Distribui\\u00e7\\u00e3o da Renda\",\"Distribui\\u00e7\\u00e3o da Renda\",\"Distribui\\u00e7\\u00e3o da Renda\",\"Distribui\\u00e7\\u00e3o da Renda\",\"Distribui\\u00e7\\u00e3o da Renda\",\"Distribui\\u00e7\\u00e3o da Renda\",\"Distribui\\u00e7\\u00e3o da Renda\",\"Distribui\\u00e7\\u00e3o da Renda\",\"Distribui\\u00e7\\u00e3o da Renda\",\"Distribui\\u00e7\\u00e3o da Renda\",\"Distribui\\u00e7\\u00e3o da Renda\",\"Distribui\\u00e7\\u00e3o da Renda\",\"Distribui\\u00e7\\u00e3o da Renda\",\"Distribui\\u00e7\\u00e3o da Renda\",\"Distribui\\u00e7\\u00e3o da Renda\",\"Distribui\\u00e7\\u00e3o da Renda\",\"Distribui\\u00e7\\u00e3o da Renda\",\"Distribui\\u00e7\\u00e3o da Renda\",\"Distribui\\u00e7\\u00e3o da Renda\",\"Distribui\\u00e7\\u00e3o da Renda\",\"Distribui\\u00e7\\u00e3o da Renda\",\"Distribui\\u00e7\\u00e3o da Renda\",\"Distribui\\u00e7\\u00e3o da Renda\",\"Distribui\\u00e7\\u00e3o da Renda\",\"Distribui\\u00e7\\u00e3o da Renda\",\"Distribui\\u00e7\\u00e3o da Renda\",\"Distribui\\u00e7\\u00e3o da Renda\",\"Distribui\\u00e7\\u00e3o da Renda\",\"Distribui\\u00e7\\u00e3o da Renda\",\"Distribui\\u00e7\\u00e3o da Renda\",\"Distribui\\u00e7\\u00e3o da Renda\",\"Distribui\\u00e7\\u00e3o da Renda\",\"Distribui\\u00e7\\u00e3o da Renda\",\"Distribui\\u00e7\\u00e3o da Renda\",\"Distribui\\u00e7\\u00e3o da Renda\",\"Distribui\\u00e7\\u00e3o da Renda\",\"Distribui\\u00e7\\u00e3o da Renda\",\"Distribui\\u00e7\\u00e3o da Renda\",\"Distribui\\u00e7\\u00e3o da Renda\",\"Distribui\\u00e7\\u00e3o da Renda\",\"Distribui\\u00e7\\u00e3o da Renda\",\"Distribui\\u00e7\\u00e3o da Renda\",\"Distribui\\u00e7\\u00e3o da Renda\",\"Distribui\\u00e7\\u00e3o da Renda\",\"Distribui\\u00e7\\u00e3o da Renda\",\"Distribui\\u00e7\\u00e3o da Renda\",\"Distribui\\u00e7\\u00e3o da Renda\",\"Distribui\\u00e7\\u00e3o da Renda\",\"Distribui\\u00e7\\u00e3o da Renda\",\"Distribui\\u00e7\\u00e3o da Renda\",\"Distribui\\u00e7\\u00e3o da Renda\",\"Distribui\\u00e7\\u00e3o da Renda\",\"Distribui\\u00e7\\u00e3o da Renda\",\"Distribui\\u00e7\\u00e3o da Renda\",\"Distribui\\u00e7\\u00e3o da Renda\",\"Distribui\\u00e7\\u00e3o da Renda\",\"Distribui\\u00e7\\u00e3o da Renda\",\"Distribui\\u00e7\\u00e3o da Renda\",\"Distribui\\u00e7\\u00e3o da Renda\",\"Distribui\\u00e7\\u00e3o da Renda\",\"Distribui\\u00e7\\u00e3o da Renda\",\"Distribui\\u00e7\\u00e3o da Renda\",\"Distribui\\u00e7\\u00e3o da Renda\",\"Distribui\\u00e7\\u00e3o da Renda\",\"Distribui\\u00e7\\u00e3o da Renda\",\"Distribui\\u00e7\\u00e3o da Renda\",\"Distribui\\u00e7\\u00e3o da Renda\",\"Distribui\\u00e7\\u00e3o da Renda\",\"Distribui\\u00e7\\u00e3o da Renda\",\"Distribui\\u00e7\\u00e3o da Renda\",\"Distribui\\u00e7\\u00e3o da Renda\",\"Distribui\\u00e7\\u00e3o da Renda\",\"Distribui\\u00e7\\u00e3o da Renda\",\"Distribui\\u00e7\\u00e3o da Renda\",\"Distribui\\u00e7\\u00e3o da Renda\",\"Distribui\\u00e7\\u00e3o da Renda\",\"Distribui\\u00e7\\u00e3o da Renda\",\"Distribui\\u00e7\\u00e3o da Renda\",\"Distribui\\u00e7\\u00e3o da Renda\",\"Distribui\\u00e7\\u00e3o da Renda\",\"Distribui\\u00e7\\u00e3o da Renda\",\"Distribui\\u00e7\\u00e3o da Renda\",\"Distribui\\u00e7\\u00e3o da Renda\",\"Distribui\\u00e7\\u00e3o da Renda\",\"Distribui\\u00e7\\u00e3o da Renda\",\"Distribui\\u00e7\\u00e3o da Renda\",\"Distribui\\u00e7\\u00e3o da Renda\",\"Distribui\\u00e7\\u00e3o da Renda\",\"Distribui\\u00e7\\u00e3o da Renda\",\"Distribui\\u00e7\\u00e3o da Renda\",\"Distribui\\u00e7\\u00e3o da Renda\",\"Distribui\\u00e7\\u00e3o da Renda\",\"Distribui\\u00e7\\u00e3o da Renda\",\"Distribui\\u00e7\\u00e3o da Renda\",\"Distribui\\u00e7\\u00e3o da Renda\",\"Distribui\\u00e7\\u00e3o da Renda\",\"Distribui\\u00e7\\u00e3o da Renda\",\"Distribui\\u00e7\\u00e3o da Renda\",\"Distribui\\u00e7\\u00e3o da Renda\",\"Distribui\\u00e7\\u00e3o da Renda\",\"Distribui\\u00e7\\u00e3o da Renda\",\"Distribui\\u00e7\\u00e3o da Renda\",\"Distribui\\u00e7\\u00e3o da Renda\",\"Distribui\\u00e7\\u00e3o da Renda\",\"Distribui\\u00e7\\u00e3o da Renda\",\"Distribui\\u00e7\\u00e3o da Renda\",\"Distribui\\u00e7\\u00e3o da Renda\",\"Distribui\\u00e7\\u00e3o da Renda\",\"Distribui\\u00e7\\u00e3o da Renda\",\"Distribui\\u00e7\\u00e3o da Renda\",\"Distribui\\u00e7\\u00e3o da Renda\",\"Distribui\\u00e7\\u00e3o da Renda\",\"Distribui\\u00e7\\u00e3o da Renda\",\"Distribui\\u00e7\\u00e3o da Renda\",\"Distribui\\u00e7\\u00e3o da Renda\",\"Distribui\\u00e7\\u00e3o da Renda\",\"Distribui\\u00e7\\u00e3o da Renda\",\"Distribui\\u00e7\\u00e3o da Renda\",\"Distribui\\u00e7\\u00e3o da Renda\",\"Distribui\\u00e7\\u00e3o da Renda\",\"Distribui\\u00e7\\u00e3o da Renda\",\"Distribui\\u00e7\\u00e3o da Renda\",\"Distribui\\u00e7\\u00e3o da Renda\",\"Distribui\\u00e7\\u00e3o da Renda\",\"Distribui\\u00e7\\u00e3o da Renda\",\"Distribui\\u00e7\\u00e3o da Renda\",\"Distribui\\u00e7\\u00e3o da Renda\",\"Distribui\\u00e7\\u00e3o da Renda\",\"Distribui\\u00e7\\u00e3o da Renda\",\"Distribui\\u00e7\\u00e3o da Renda\",\"Distribui\\u00e7\\u00e3o da Renda\",\"Distribui\\u00e7\\u00e3o da Renda\",\"Distribui\\u00e7\\u00e3o da Renda\",\"Distribui\\u00e7\\u00e3o da Renda\",\"Distribui\\u00e7\\u00e3o da Renda\",\"Distribui\\u00e7\\u00e3o da Renda\",\"Distribui\\u00e7\\u00e3o da Renda\",\"Distribui\\u00e7\\u00e3o da Renda\",\"Distribui\\u00e7\\u00e3o da Renda\",\"Distribui\\u00e7\\u00e3o da Renda\",\"Distribui\\u00e7\\u00e3o da Renda\",\"Distribui\\u00e7\\u00e3o da Renda\",\"Distribui\\u00e7\\u00e3o da Renda\",\"Distribui\\u00e7\\u00e3o da Renda\",\"Distribui\\u00e7\\u00e3o da Renda\",\"Distribui\\u00e7\\u00e3o da Renda\",\"Distribui\\u00e7\\u00e3o da Renda\",\"Distribui\\u00e7\\u00e3o da Renda\",\"Distribui\\u00e7\\u00e3o da Renda\",\"Distribui\\u00e7\\u00e3o da Renda\",\"Distribui\\u00e7\\u00e3o da Renda\",\"Distribui\\u00e7\\u00e3o da Renda\",\"Distribui\\u00e7\\u00e3o da Renda\",\"Distribui\\u00e7\\u00e3o da Renda\",\"Distribui\\u00e7\\u00e3o da Renda\",\"Distribui\\u00e7\\u00e3o da Renda\",\"Distribui\\u00e7\\u00e3o da Renda\",\"Distribui\\u00e7\\u00e3o da Renda\",\"Distribui\\u00e7\\u00e3o da Renda\",\"Distribui\\u00e7\\u00e3o da Renda\",\"Distribui\\u00e7\\u00e3o da Renda\",\"Distribui\\u00e7\\u00e3o da Renda\",\"Distribui\\u00e7\\u00e3o da Renda\",\"Distribui\\u00e7\\u00e3o da Renda\",\"Distribui\\u00e7\\u00e3o da Renda\",\"Distribui\\u00e7\\u00e3o da Renda\",\"Distribui\\u00e7\\u00e3o da Renda\",\"Distribui\\u00e7\\u00e3o da Renda\",\"Distribui\\u00e7\\u00e3o da Renda\",\"Distribui\\u00e7\\u00e3o da Renda\",\"Distribui\\u00e7\\u00e3o da Renda\",\"Distribui\\u00e7\\u00e3o da Renda\",\"Distribui\\u00e7\\u00e3o da Renda\",\"Distribui\\u00e7\\u00e3o da Renda\",\"Distribui\\u00e7\\u00e3o da Renda\",\"Distribui\\u00e7\\u00e3o da Renda\",\"Distribui\\u00e7\\u00e3o da Renda\",\"Distribui\\u00e7\\u00e3o da Renda\",\"Distribui\\u00e7\\u00e3o da Renda\",\"Distribui\\u00e7\\u00e3o da Renda\",\"Distribui\\u00e7\\u00e3o da Renda\",\"Distribui\\u00e7\\u00e3o da Renda\",\"Distribui\\u00e7\\u00e3o da Renda\",\"Distribui\\u00e7\\u00e3o da Renda\",\"Distribui\\u00e7\\u00e3o da Renda\",\"Distribui\\u00e7\\u00e3o da Renda\",\"Distribui\\u00e7\\u00e3o da Renda\",\"Distribui\\u00e7\\u00e3o da Renda\",\"Distribui\\u00e7\\u00e3o da Renda\",\"Distribui\\u00e7\\u00e3o da Renda\",\"Distribui\\u00e7\\u00e3o da Renda\",\"Distribui\\u00e7\\u00e3o da Renda\",\"Distribui\\u00e7\\u00e3o da Renda\",\"Distribui\\u00e7\\u00e3o da Renda\",\"Distribui\\u00e7\\u00e3o da Renda\",\"Distribui\\u00e7\\u00e3o da Renda\",\"Distribui\\u00e7\\u00e3o da Renda\",\"Distribui\\u00e7\\u00e3o da Renda\",\"Distribui\\u00e7\\u00e3o da Renda\",\"Distribui\\u00e7\\u00e3o da Renda\",\"Distribui\\u00e7\\u00e3o da Renda\",\"Distribui\\u00e7\\u00e3o da Renda\",\"Distribui\\u00e7\\u00e3o da Renda\",\"Distribui\\u00e7\\u00e3o da Renda\",\"Distribui\\u00e7\\u00e3o da Renda\",\"Distribui\\u00e7\\u00e3o da Renda\",\"Distribui\\u00e7\\u00e3o da Renda\",\"Distribui\\u00e7\\u00e3o da Renda\",\"Distribui\\u00e7\\u00e3o da Renda\",\"Distribui\\u00e7\\u00e3o da Renda\",\"Distribui\\u00e7\\u00e3o da Renda\",\"Distribui\\u00e7\\u00e3o da Renda\",\"Distribui\\u00e7\\u00e3o da Renda\",\"Distribui\\u00e7\\u00e3o da Renda\",\"Distribui\\u00e7\\u00e3o da Renda\",\"Distribui\\u00e7\\u00e3o da Renda\",\"Distribui\\u00e7\\u00e3o da Renda\",\"Distribui\\u00e7\\u00e3o da Renda\",\"Distribui\\u00e7\\u00e3o da Renda\",\"Distribui\\u00e7\\u00e3o da Renda\",\"Distribui\\u00e7\\u00e3o da Renda\",\"Distribui\\u00e7\\u00e3o da Renda\",\"Distribui\\u00e7\\u00e3o da Renda\",\"Distribui\\u00e7\\u00e3o da Renda\",\"Distribui\\u00e7\\u00e3o da Renda\",\"Distribui\\u00e7\\u00e3o da Renda\",\"Distribui\\u00e7\\u00e3o da Renda\",\"Distribui\\u00e7\\u00e3o da Renda\",\"Distribui\\u00e7\\u00e3o da Renda\",\"Distribui\\u00e7\\u00e3o da Renda\",\"Distribui\\u00e7\\u00e3o da Renda\",\"Distribui\\u00e7\\u00e3o da Renda\",\"Distribui\\u00e7\\u00e3o da Renda\",\"Distribui\\u00e7\\u00e3o da Renda\",\"Distribui\\u00e7\\u00e3o da Renda\",\"Distribui\\u00e7\\u00e3o da Renda\",\"Distribui\\u00e7\\u00e3o da Renda\",\"Distribui\\u00e7\\u00e3o da Renda\",\"Distribui\\u00e7\\u00e3o da Renda\",\"Distribui\\u00e7\\u00e3o da Renda\",\"Distribui\\u00e7\\u00e3o da Renda\",\"Distribui\\u00e7\\u00e3o da Renda\",\"Distribui\\u00e7\\u00e3o da Renda\",\"Distribui\\u00e7\\u00e3o da Renda\",\"Distribui\\u00e7\\u00e3o da Renda\",\"Distribui\\u00e7\\u00e3o da Renda\",\"Distribui\\u00e7\\u00e3o da Renda\",\"Distribui\\u00e7\\u00e3o da Renda\",\"Distribui\\u00e7\\u00e3o da Renda\",\"Distribui\\u00e7\\u00e3o da Renda\",\"Distribui\\u00e7\\u00e3o da Renda\",\"Distribui\\u00e7\\u00e3o da Renda\",\"Distribui\\u00e7\\u00e3o da Renda\",\"Distribui\\u00e7\\u00e3o da Renda\",\"Distribui\\u00e7\\u00e3o da Renda\",\"Distribui\\u00e7\\u00e3o da Renda\",\"Distribui\\u00e7\\u00e3o da Renda\",\"Distribui\\u00e7\\u00e3o da Renda\",\"Distribui\\u00e7\\u00e3o da Renda\",\"Distribui\\u00e7\\u00e3o da Renda\",\"Distribui\\u00e7\\u00e3o da Renda\",\"Distribui\\u00e7\\u00e3o da Renda\",\"Distribui\\u00e7\\u00e3o da Renda\",\"Distribui\\u00e7\\u00e3o da Renda\",\"Distribui\\u00e7\\u00e3o da Renda\",\"Distribui\\u00e7\\u00e3o da Renda\",\"Distribui\\u00e7\\u00e3o da Renda\",\"Distribui\\u00e7\\u00e3o da Renda\",\"Distribui\\u00e7\\u00e3o da Renda\",\"Distribui\\u00e7\\u00e3o da Renda\",\"Distribui\\u00e7\\u00e3o da Renda\",\"Distribui\\u00e7\\u00e3o da Renda\",\"Distribui\\u00e7\\u00e3o da Renda\",\"Distribui\\u00e7\\u00e3o da Renda\",\"Distribui\\u00e7\\u00e3o da Renda\",\"Distribui\\u00e7\\u00e3o da Renda\",\"Distribui\\u00e7\\u00e3o da Renda\",\"Distribui\\u00e7\\u00e3o da Renda\",\"Distribui\\u00e7\\u00e3o da Renda\",\"Distribui\\u00e7\\u00e3o da Renda\",\"Distribui\\u00e7\\u00e3o da Renda\",\"Distribui\\u00e7\\u00e3o da Renda\",\"Distribui\\u00e7\\u00e3o da Renda\",\"Distribui\\u00e7\\u00e3o da Renda\",\"Distribui\\u00e7\\u00e3o da Renda\",\"Distribui\\u00e7\\u00e3o da Renda\",\"Distribui\\u00e7\\u00e3o da Renda\"],\"yaxis\":\"y2\",\"type\":\"scatter\"}],                        {\"barmode\":\"overlay\",\"hovermode\":\"closest\",\"legend\":{\"traceorder\":\"reversed\"},\"xaxis\":{\"anchor\":\"y2\",\"domain\":[0.0,1.0],\"zeroline\":false},\"yaxis\":{\"anchor\":\"free\",\"domain\":[0.35,1],\"position\":0.0},\"yaxis2\":{\"anchor\":\"x\",\"domain\":[0,0.25],\"dtick\":1,\"showticklabels\":false},\"template\":{\"data\":{\"bar\":[{\"error_x\":{\"color\":\"#2a3f5f\"},\"error_y\":{\"color\":\"#2a3f5f\"},\"marker\":{\"line\":{\"color\":\"#E5ECF6\",\"width\":0.5},\"pattern\":{\"fillmode\":\"overlay\",\"size\":10,\"solidity\":0.2}},\"type\":\"bar\"}],\"barpolar\":[{\"marker\":{\"line\":{\"color\":\"#E5ECF6\",\"width\":0.5},\"pattern\":{\"fillmode\":\"overlay\",\"size\":10,\"solidity\":0.2}},\"type\":\"barpolar\"}],\"carpet\":[{\"aaxis\":{\"endlinecolor\":\"#2a3f5f\",\"gridcolor\":\"white\",\"linecolor\":\"white\",\"minorgridcolor\":\"white\",\"startlinecolor\":\"#2a3f5f\"},\"baxis\":{\"endlinecolor\":\"#2a3f5f\",\"gridcolor\":\"white\",\"linecolor\":\"white\",\"minorgridcolor\":\"white\",\"startlinecolor\":\"#2a3f5f\"},\"type\":\"carpet\"}],\"choropleth\":[{\"colorbar\":{\"outlinewidth\":0,\"ticks\":\"\"},\"type\":\"choropleth\"}],\"contour\":[{\"colorbar\":{\"outlinewidth\":0,\"ticks\":\"\"},\"colorscale\":[[0.0,\"#0d0887\"],[0.1111111111111111,\"#46039f\"],[0.2222222222222222,\"#7201a8\"],[0.3333333333333333,\"#9c179e\"],[0.4444444444444444,\"#bd3786\"],[0.5555555555555556,\"#d8576b\"],[0.6666666666666666,\"#ed7953\"],[0.7777777777777778,\"#fb9f3a\"],[0.8888888888888888,\"#fdca26\"],[1.0,\"#f0f921\"]],\"type\":\"contour\"}],\"contourcarpet\":[{\"colorbar\":{\"outlinewidth\":0,\"ticks\":\"\"},\"type\":\"contourcarpet\"}],\"heatmap\":[{\"colorbar\":{\"outlinewidth\":0,\"ticks\":\"\"},\"colorscale\":[[0.0,\"#0d0887\"],[0.1111111111111111,\"#46039f\"],[0.2222222222222222,\"#7201a8\"],[0.3333333333333333,\"#9c179e\"],[0.4444444444444444,\"#bd3786\"],[0.5555555555555556,\"#d8576b\"],[0.6666666666666666,\"#ed7953\"],[0.7777777777777778,\"#fb9f3a\"],[0.8888888888888888,\"#fdca26\"],[1.0,\"#f0f921\"]],\"type\":\"heatmap\"}],\"heatmapgl\":[{\"colorbar\":{\"outlinewidth\":0,\"ticks\":\"\"},\"colorscale\":[[0.0,\"#0d0887\"],[0.1111111111111111,\"#46039f\"],[0.2222222222222222,\"#7201a8\"],[0.3333333333333333,\"#9c179e\"],[0.4444444444444444,\"#bd3786\"],[0.5555555555555556,\"#d8576b\"],[0.6666666666666666,\"#ed7953\"],[0.7777777777777778,\"#fb9f3a\"],[0.8888888888888888,\"#fdca26\"],[1.0,\"#f0f921\"]],\"type\":\"heatmapgl\"}],\"histogram\":[{\"marker\":{\"pattern\":{\"fillmode\":\"overlay\",\"size\":10,\"solidity\":0.2}},\"type\":\"histogram\"}],\"histogram2d\":[{\"colorbar\":{\"outlinewidth\":0,\"ticks\":\"\"},\"colorscale\":[[0.0,\"#0d0887\"],[0.1111111111111111,\"#46039f\"],[0.2222222222222222,\"#7201a8\"],[0.3333333333333333,\"#9c179e\"],[0.4444444444444444,\"#bd3786\"],[0.5555555555555556,\"#d8576b\"],[0.6666666666666666,\"#ed7953\"],[0.7777777777777778,\"#fb9f3a\"],[0.8888888888888888,\"#fdca26\"],[1.0,\"#f0f921\"]],\"type\":\"histogram2d\"}],\"histogram2dcontour\":[{\"colorbar\":{\"outlinewidth\":0,\"ticks\":\"\"},\"colorscale\":[[0.0,\"#0d0887\"],[0.1111111111111111,\"#46039f\"],[0.2222222222222222,\"#7201a8\"],[0.3333333333333333,\"#9c179e\"],[0.4444444444444444,\"#bd3786\"],[0.5555555555555556,\"#d8576b\"],[0.6666666666666666,\"#ed7953\"],[0.7777777777777778,\"#fb9f3a\"],[0.8888888888888888,\"#fdca26\"],[1.0,\"#f0f921\"]],\"type\":\"histogram2dcontour\"}],\"mesh3d\":[{\"colorbar\":{\"outlinewidth\":0,\"ticks\":\"\"},\"type\":\"mesh3d\"}],\"parcoords\":[{\"line\":{\"colorbar\":{\"outlinewidth\":0,\"ticks\":\"\"}},\"type\":\"parcoords\"}],\"pie\":[{\"automargin\":true,\"type\":\"pie\"}],\"scatter\":[{\"marker\":{\"colorbar\":{\"outlinewidth\":0,\"ticks\":\"\"}},\"type\":\"scatter\"}],\"scatter3d\":[{\"line\":{\"colorbar\":{\"outlinewidth\":0,\"ticks\":\"\"}},\"marker\":{\"colorbar\":{\"outlinewidth\":0,\"ticks\":\"\"}},\"type\":\"scatter3d\"}],\"scattercarpet\":[{\"marker\":{\"colorbar\":{\"outlinewidth\":0,\"ticks\":\"\"}},\"type\":\"scattercarpet\"}],\"scattergeo\":[{\"marker\":{\"colorbar\":{\"outlinewidth\":0,\"ticks\":\"\"}},\"type\":\"scattergeo\"}],\"scattergl\":[{\"marker\":{\"colorbar\":{\"outlinewidth\":0,\"ticks\":\"\"}},\"type\":\"scattergl\"}],\"scattermapbox\":[{\"marker\":{\"colorbar\":{\"outlinewidth\":0,\"ticks\":\"\"}},\"type\":\"scattermapbox\"}],\"scatterpolar\":[{\"marker\":{\"colorbar\":{\"outlinewidth\":0,\"ticks\":\"\"}},\"type\":\"scatterpolar\"}],\"scatterpolargl\":[{\"marker\":{\"colorbar\":{\"outlinewidth\":0,\"ticks\":\"\"}},\"type\":\"scatterpolargl\"}],\"scatterternary\":[{\"marker\":{\"colorbar\":{\"outlinewidth\":0,\"ticks\":\"\"}},\"type\":\"scatterternary\"}],\"surface\":[{\"colorbar\":{\"outlinewidth\":0,\"ticks\":\"\"},\"colorscale\":[[0.0,\"#0d0887\"],[0.1111111111111111,\"#46039f\"],[0.2222222222222222,\"#7201a8\"],[0.3333333333333333,\"#9c179e\"],[0.4444444444444444,\"#bd3786\"],[0.5555555555555556,\"#d8576b\"],[0.6666666666666666,\"#ed7953\"],[0.7777777777777778,\"#fb9f3a\"],[0.8888888888888888,\"#fdca26\"],[1.0,\"#f0f921\"]],\"type\":\"surface\"}],\"table\":[{\"cells\":{\"fill\":{\"color\":\"#EBF0F8\"},\"line\":{\"color\":\"white\"}},\"header\":{\"fill\":{\"color\":\"#C8D4E3\"},\"line\":{\"color\":\"white\"}},\"type\":\"table\"}]},\"layout\":{\"annotationdefaults\":{\"arrowcolor\":\"#2a3f5f\",\"arrowhead\":0,\"arrowwidth\":1},\"autotypenumbers\":\"strict\",\"coloraxis\":{\"colorbar\":{\"outlinewidth\":0,\"ticks\":\"\"}},\"colorscale\":{\"diverging\":[[0,\"#8e0152\"],[0.1,\"#c51b7d\"],[0.2,\"#de77ae\"],[0.3,\"#f1b6da\"],[0.4,\"#fde0ef\"],[0.5,\"#f7f7f7\"],[0.6,\"#e6f5d0\"],[0.7,\"#b8e186\"],[0.8,\"#7fbc41\"],[0.9,\"#4d9221\"],[1,\"#276419\"]],\"sequential\":[[0.0,\"#0d0887\"],[0.1111111111111111,\"#46039f\"],[0.2222222222222222,\"#7201a8\"],[0.3333333333333333,\"#9c179e\"],[0.4444444444444444,\"#bd3786\"],[0.5555555555555556,\"#d8576b\"],[0.6666666666666666,\"#ed7953\"],[0.7777777777777778,\"#fb9f3a\"],[0.8888888888888888,\"#fdca26\"],[1.0,\"#f0f921\"]],\"sequentialminus\":[[0.0,\"#0d0887\"],[0.1111111111111111,\"#46039f\"],[0.2222222222222222,\"#7201a8\"],[0.3333333333333333,\"#9c179e\"],[0.4444444444444444,\"#bd3786\"],[0.5555555555555556,\"#d8576b\"],[0.6666666666666666,\"#ed7953\"],[0.7777777777777778,\"#fb9f3a\"],[0.8888888888888888,\"#fdca26\"],[1.0,\"#f0f921\"]]},\"colorway\":[\"#636efa\",\"#EF553B\",\"#00cc96\",\"#ab63fa\",\"#FFA15A\",\"#19d3f3\",\"#FF6692\",\"#B6E880\",\"#FF97FF\",\"#FECB52\"],\"font\":{\"color\":\"#2a3f5f\"},\"geo\":{\"bgcolor\":\"white\",\"lakecolor\":\"white\",\"landcolor\":\"#E5ECF6\",\"showlakes\":true,\"showland\":true,\"subunitcolor\":\"white\"},\"hoverlabel\":{\"align\":\"left\"},\"hovermode\":\"closest\",\"mapbox\":{\"style\":\"light\"},\"paper_bgcolor\":\"white\",\"plot_bgcolor\":\"#E5ECF6\",\"polar\":{\"angularaxis\":{\"gridcolor\":\"white\",\"linecolor\":\"white\",\"ticks\":\"\"},\"bgcolor\":\"#E5ECF6\",\"radialaxis\":{\"gridcolor\":\"white\",\"linecolor\":\"white\",\"ticks\":\"\"}},\"scene\":{\"xaxis\":{\"backgroundcolor\":\"#E5ECF6\",\"gridcolor\":\"white\",\"gridwidth\":2,\"linecolor\":\"white\",\"showbackground\":true,\"ticks\":\"\",\"zerolinecolor\":\"white\"},\"yaxis\":{\"backgroundcolor\":\"#E5ECF6\",\"gridcolor\":\"white\",\"gridwidth\":2,\"linecolor\":\"white\",\"showbackground\":true,\"ticks\":\"\",\"zerolinecolor\":\"white\"},\"zaxis\":{\"backgroundcolor\":\"#E5ECF6\",\"gridcolor\":\"white\",\"gridwidth\":2,\"linecolor\":\"white\",\"showbackground\":true,\"ticks\":\"\",\"zerolinecolor\":\"white\"}},\"shapedefaults\":{\"line\":{\"color\":\"#2a3f5f\"}},\"ternary\":{\"aaxis\":{\"gridcolor\":\"white\",\"linecolor\":\"white\",\"ticks\":\"\"},\"baxis\":{\"gridcolor\":\"white\",\"linecolor\":\"white\",\"ticks\":\"\"},\"bgcolor\":\"#E5ECF6\",\"caxis\":{\"gridcolor\":\"white\",\"linecolor\":\"white\",\"ticks\":\"\"}},\"title\":{\"x\":0.05},\"xaxis\":{\"automargin\":true,\"gridcolor\":\"white\",\"linecolor\":\"white\",\"ticks\":\"\",\"title\":{\"standoff\":15},\"zerolinecolor\":\"white\",\"zerolinewidth\":2},\"yaxis\":{\"automargin\":true,\"gridcolor\":\"white\",\"linecolor\":\"white\",\"ticks\":\"\",\"title\":{\"standoff\":15},\"zerolinecolor\":\"white\",\"zerolinewidth\":2}}}},                        {\"responsive\": true}                    ).then(function(){\n",
              "                            \n",
              "var gd = document.getElementById('7a277b86-8663-4bb4-acb7-501824c2b8e0');\n",
              "var x = new MutationObserver(function (mutations, observer) {{\n",
              "        var display = window.getComputedStyle(gd).display;\n",
              "        if (!display || display === 'none') {{\n",
              "            console.log([gd, 'removed!']);\n",
              "            Plotly.purge(gd);\n",
              "            observer.disconnect();\n",
              "        }}\n",
              "}});\n",
              "\n",
              "// Listen for the removal of the full notebook cells\n",
              "var notebookContainer = gd.closest('#notebook-container');\n",
              "if (notebookContainer) {{\n",
              "    x.observe(notebookContainer, {childList: true});\n",
              "}}\n",
              "\n",
              "// Listen for the clearing of the current output cell\n",
              "var outputEl = gd.closest('.output');\n",
              "if (outputEl) {{\n",
              "    x.observe(outputEl, {childList: true});\n",
              "}}\n",
              "\n",
              "                        })                };                            </script>        </div>\n",
              "</body>\n",
              "</html>"
            ]
          },
          "metadata": {}
        }
      ]
    },
    {
      "cell_type": "markdown",
      "source": [
        "Outlier = clientes com mais de 10k de renda"
      ],
      "metadata": {
        "id": "lHEHVy7_qiBP"
      }
    },
    {
      "cell_type": "code",
      "source": [
        "import plotly.express as px\n",
        "fig = px.box(df, y='RendadoCandidato')\n",
        "fig.update_layout( width=600,height=600)\n",
        "fig.show()"
      ],
      "metadata": {
        "colab": {
          "base_uri": "https://localhost:8080/",
          "height": 617
        },
        "id": "lbH4k5BHjBK0",
        "outputId": "1c972cb8-39c0-40a4-bc92-a97a8cd97c01"
      },
      "execution_count": 17,
      "outputs": [
        {
          "output_type": "display_data",
          "data": {
            "text/html": [
              "<html>\n",
              "<head><meta charset=\"utf-8\" /></head>\n",
              "<body>\n",
              "    <div>            <script src=\"https://cdnjs.cloudflare.com/ajax/libs/mathjax/2.7.5/MathJax.js?config=TeX-AMS-MML_SVG\"></script><script type=\"text/javascript\">if (window.MathJax) {MathJax.Hub.Config({SVG: {font: \"STIX-Web\"}});}</script>                <script type=\"text/javascript\">window.PlotlyConfig = {MathJaxConfig: 'local'};</script>\n",
              "        <script src=\"https://cdn.plot.ly/plotly-2.8.3.min.js\"></script>                <div id=\"1e62028f-ce21-457d-b90b-951bdac4656f\" class=\"plotly-graph-div\" style=\"height:600px; width:600px;\"></div>            <script type=\"text/javascript\">                                    window.PLOTLYENV=window.PLOTLYENV || {};                                    if (document.getElementById(\"1e62028f-ce21-457d-b90b-951bdac4656f\")) {                    Plotly.newPlot(                        \"1e62028f-ce21-457d-b90b-951bdac4656f\",                        [{\"alignmentgroup\":\"True\",\"hovertemplate\":\"RendadoCandidato=%{y}<extra></extra>\",\"legendgroup\":\"\",\"marker\":{\"color\":\"#636efa\"},\"name\":\"\",\"notched\":false,\"offsetgroup\":\"\",\"orientation\":\"v\",\"showlegend\":false,\"x0\":\" \",\"xaxis\":\"x\",\"y\":[5849,4583,3000,2583,6000,5417,2333,3036,4006,12841,3200,2500,3073,1853,1299,4950,3596,3510,4887,2600,7660,5955,2600,3365,3717,9560,2799,4226,1442,3750,4166,3167,4692,3500,12500,2275,1828,3667,4166,3748,3600,1800,2400,3941,4695,3410,5649,5821,2645,4000,1928,3086,4230,4616,11500,2708,2132,3366,8080,3357,2500,3029,2609,4945,4166,5726,3200,10750,7100,4300,3208,1875,3500,4755,5266,3750,3750,1000,3167,3333,3846,2395,1378,6000,3988,2366,3333,2500,8566,5695,2958,6250,3273,4133,3620,6782,2484,1977,4188,1759,4288,4843,13650,4652,3816,3052,11417,7333,3800,2071,5316,2929,3572,7451,5050,14583,3167,2214,5568,10408,5667,4166,2137,2957,4300,3692,23803,3865,10513,6080,20166,2014,2718,3459,4895,4000,4583,3316,14999,4200,5042,5417,6950,2698,11757,2330,14866,1538,10000,4860,6277,2577,9166,2281,3254,39999,6000,9538,2980,4583,1863,7933,3089,4167,9323,3707,4583,2439,2237,8000,1820,51763,3522,5708,4344,3497,2045,5516,3750,2333,6400,1916,4600,33846,3625,39147,2178,2383,674,9328,4885,12000,6033,3858,4191,3125,8333,1907,3416,11000,2600,4923,3992,3500,3917,4408,3244,3975,2479,3418,10000,3430,7787,5703,3173,3850,150,3727,5000,4283,2221,4009,2971,7578,6250,3250,4735,6250,4758,6400,2491,3716,3189,8333,3155,5500,5746,3463,3812,3315,5819,2510,2965,6250,3406,6050,9703,6608,2882,1809,1668,3427,2583,2661,16250,3083,6045,5250,14683,4931,6083,2060,3481,7200,5166,4095,4708,4333,3418,2876,3237,11146,2833,2620,3900,2750,3993,3103,14583,4100,4053,3927,2301,1811,20667,3158,2600,3704,4124,9508,3075,4400,3153,5417,2383,4416,6875,4666,5000,2014,1800,2875,5000,1625,4000,2000,3762,2400,20233,7667,2917,2927,2507,5746,2473,3399,3717,2058,3541,10000,2400,4342,3601,3166,15000,8666,4917,5818,4333,2500,4384,2935,2833,63337,9833,5503,5250,2500,1830,4160,2647,2378,4554,3173,2583,2499,3523,3083,6333,2625,9083,8750,2666,5500,2423,3813,8333,3875,3000,5167,4723,5000,4750,3013,6822,6216,2500,5124,6325,19730,15759,5185,9323,3062,2764,4817,8750,4310,3069,5391,3333,5941,6000,7167,4566,3667,2346,3010,2333,5488,9167,9504,2583,1993,3100,3276,3180,3033,3902,1500,2889,2755,2500,1963,7441,4547,2167,2213,8300,81000,3867,6256,6096,2253,2149,2995,2600,1600,1025,3246,5829,2720,1820,7250,14880,2666,4606,5935,2920,2717,8624,6500,12876,2425,3750,10047,1926,2213,10416,7142,3660,7901,4707,37719,7333,3466,4652,3539,3340,2769,2309,1958,3948,2483,7085,3859,4301,3708,4354,8334,2083,7740,3015,5191,4166,6000,2947,16692,210,4333,3450,2653,4691,2500,5532,16525,6700,2873,16667,2947,4350,3095,2083,10833,8333,1958,3547,18333,4583,2435,2699,5333,3691,17263,3597,3326,2600,4625,2895,6283,645,3159,4865,4050,3814,3510,20833,3583,2479,13262,3598,6065,3283,2130,5815,3466,2031,3074,4683,3400,2192,2500,5677,7948,4680,17500,3775,5285,2679,6783,1025,4281,3588,11250,18165,2550,6133,3617,2917,6417,4608,2138,3652,2239,3017,2768,3358,2526,5000,2785,6633,2492,3333,2454,3593,5468,2667,10139,3887,4180,3675,19484,5923,5800,8799,4467,3333,3400,2378,3166,3417,5116,16666,6125,6406,3159,3087,3229,1782,3182,6540,1836,3166,1880,2787,4283,2297,2165,4750,2726,3000,6000,9357,3859,16120,3833,6383,2987,9963,5780,416,2894,5703,3676,12000,2400,3400,3987,3232,2900,4106,8072,7583,4583],\"y0\":\" \",\"yaxis\":\"y\",\"type\":\"box\"}],                        {\"template\":{\"data\":{\"bar\":[{\"error_x\":{\"color\":\"#2a3f5f\"},\"error_y\":{\"color\":\"#2a3f5f\"},\"marker\":{\"line\":{\"color\":\"#E5ECF6\",\"width\":0.5},\"pattern\":{\"fillmode\":\"overlay\",\"size\":10,\"solidity\":0.2}},\"type\":\"bar\"}],\"barpolar\":[{\"marker\":{\"line\":{\"color\":\"#E5ECF6\",\"width\":0.5},\"pattern\":{\"fillmode\":\"overlay\",\"size\":10,\"solidity\":0.2}},\"type\":\"barpolar\"}],\"carpet\":[{\"aaxis\":{\"endlinecolor\":\"#2a3f5f\",\"gridcolor\":\"white\",\"linecolor\":\"white\",\"minorgridcolor\":\"white\",\"startlinecolor\":\"#2a3f5f\"},\"baxis\":{\"endlinecolor\":\"#2a3f5f\",\"gridcolor\":\"white\",\"linecolor\":\"white\",\"minorgridcolor\":\"white\",\"startlinecolor\":\"#2a3f5f\"},\"type\":\"carpet\"}],\"choropleth\":[{\"colorbar\":{\"outlinewidth\":0,\"ticks\":\"\"},\"type\":\"choropleth\"}],\"contour\":[{\"colorbar\":{\"outlinewidth\":0,\"ticks\":\"\"},\"colorscale\":[[0.0,\"#0d0887\"],[0.1111111111111111,\"#46039f\"],[0.2222222222222222,\"#7201a8\"],[0.3333333333333333,\"#9c179e\"],[0.4444444444444444,\"#bd3786\"],[0.5555555555555556,\"#d8576b\"],[0.6666666666666666,\"#ed7953\"],[0.7777777777777778,\"#fb9f3a\"],[0.8888888888888888,\"#fdca26\"],[1.0,\"#f0f921\"]],\"type\":\"contour\"}],\"contourcarpet\":[{\"colorbar\":{\"outlinewidth\":0,\"ticks\":\"\"},\"type\":\"contourcarpet\"}],\"heatmap\":[{\"colorbar\":{\"outlinewidth\":0,\"ticks\":\"\"},\"colorscale\":[[0.0,\"#0d0887\"],[0.1111111111111111,\"#46039f\"],[0.2222222222222222,\"#7201a8\"],[0.3333333333333333,\"#9c179e\"],[0.4444444444444444,\"#bd3786\"],[0.5555555555555556,\"#d8576b\"],[0.6666666666666666,\"#ed7953\"],[0.7777777777777778,\"#fb9f3a\"],[0.8888888888888888,\"#fdca26\"],[1.0,\"#f0f921\"]],\"type\":\"heatmap\"}],\"heatmapgl\":[{\"colorbar\":{\"outlinewidth\":0,\"ticks\":\"\"},\"colorscale\":[[0.0,\"#0d0887\"],[0.1111111111111111,\"#46039f\"],[0.2222222222222222,\"#7201a8\"],[0.3333333333333333,\"#9c179e\"],[0.4444444444444444,\"#bd3786\"],[0.5555555555555556,\"#d8576b\"],[0.6666666666666666,\"#ed7953\"],[0.7777777777777778,\"#fb9f3a\"],[0.8888888888888888,\"#fdca26\"],[1.0,\"#f0f921\"]],\"type\":\"heatmapgl\"}],\"histogram\":[{\"marker\":{\"pattern\":{\"fillmode\":\"overlay\",\"size\":10,\"solidity\":0.2}},\"type\":\"histogram\"}],\"histogram2d\":[{\"colorbar\":{\"outlinewidth\":0,\"ticks\":\"\"},\"colorscale\":[[0.0,\"#0d0887\"],[0.1111111111111111,\"#46039f\"],[0.2222222222222222,\"#7201a8\"],[0.3333333333333333,\"#9c179e\"],[0.4444444444444444,\"#bd3786\"],[0.5555555555555556,\"#d8576b\"],[0.6666666666666666,\"#ed7953\"],[0.7777777777777778,\"#fb9f3a\"],[0.8888888888888888,\"#fdca26\"],[1.0,\"#f0f921\"]],\"type\":\"histogram2d\"}],\"histogram2dcontour\":[{\"colorbar\":{\"outlinewidth\":0,\"ticks\":\"\"},\"colorscale\":[[0.0,\"#0d0887\"],[0.1111111111111111,\"#46039f\"],[0.2222222222222222,\"#7201a8\"],[0.3333333333333333,\"#9c179e\"],[0.4444444444444444,\"#bd3786\"],[0.5555555555555556,\"#d8576b\"],[0.6666666666666666,\"#ed7953\"],[0.7777777777777778,\"#fb9f3a\"],[0.8888888888888888,\"#fdca26\"],[1.0,\"#f0f921\"]],\"type\":\"histogram2dcontour\"}],\"mesh3d\":[{\"colorbar\":{\"outlinewidth\":0,\"ticks\":\"\"},\"type\":\"mesh3d\"}],\"parcoords\":[{\"line\":{\"colorbar\":{\"outlinewidth\":0,\"ticks\":\"\"}},\"type\":\"parcoords\"}],\"pie\":[{\"automargin\":true,\"type\":\"pie\"}],\"scatter\":[{\"marker\":{\"colorbar\":{\"outlinewidth\":0,\"ticks\":\"\"}},\"type\":\"scatter\"}],\"scatter3d\":[{\"line\":{\"colorbar\":{\"outlinewidth\":0,\"ticks\":\"\"}},\"marker\":{\"colorbar\":{\"outlinewidth\":0,\"ticks\":\"\"}},\"type\":\"scatter3d\"}],\"scattercarpet\":[{\"marker\":{\"colorbar\":{\"outlinewidth\":0,\"ticks\":\"\"}},\"type\":\"scattercarpet\"}],\"scattergeo\":[{\"marker\":{\"colorbar\":{\"outlinewidth\":0,\"ticks\":\"\"}},\"type\":\"scattergeo\"}],\"scattergl\":[{\"marker\":{\"colorbar\":{\"outlinewidth\":0,\"ticks\":\"\"}},\"type\":\"scattergl\"}],\"scattermapbox\":[{\"marker\":{\"colorbar\":{\"outlinewidth\":0,\"ticks\":\"\"}},\"type\":\"scattermapbox\"}],\"scatterpolar\":[{\"marker\":{\"colorbar\":{\"outlinewidth\":0,\"ticks\":\"\"}},\"type\":\"scatterpolar\"}],\"scatterpolargl\":[{\"marker\":{\"colorbar\":{\"outlinewidth\":0,\"ticks\":\"\"}},\"type\":\"scatterpolargl\"}],\"scatterternary\":[{\"marker\":{\"colorbar\":{\"outlinewidth\":0,\"ticks\":\"\"}},\"type\":\"scatterternary\"}],\"surface\":[{\"colorbar\":{\"outlinewidth\":0,\"ticks\":\"\"},\"colorscale\":[[0.0,\"#0d0887\"],[0.1111111111111111,\"#46039f\"],[0.2222222222222222,\"#7201a8\"],[0.3333333333333333,\"#9c179e\"],[0.4444444444444444,\"#bd3786\"],[0.5555555555555556,\"#d8576b\"],[0.6666666666666666,\"#ed7953\"],[0.7777777777777778,\"#fb9f3a\"],[0.8888888888888888,\"#fdca26\"],[1.0,\"#f0f921\"]],\"type\":\"surface\"}],\"table\":[{\"cells\":{\"fill\":{\"color\":\"#EBF0F8\"},\"line\":{\"color\":\"white\"}},\"header\":{\"fill\":{\"color\":\"#C8D4E3\"},\"line\":{\"color\":\"white\"}},\"type\":\"table\"}]},\"layout\":{\"annotationdefaults\":{\"arrowcolor\":\"#2a3f5f\",\"arrowhead\":0,\"arrowwidth\":1},\"autotypenumbers\":\"strict\",\"coloraxis\":{\"colorbar\":{\"outlinewidth\":0,\"ticks\":\"\"}},\"colorscale\":{\"diverging\":[[0,\"#8e0152\"],[0.1,\"#c51b7d\"],[0.2,\"#de77ae\"],[0.3,\"#f1b6da\"],[0.4,\"#fde0ef\"],[0.5,\"#f7f7f7\"],[0.6,\"#e6f5d0\"],[0.7,\"#b8e186\"],[0.8,\"#7fbc41\"],[0.9,\"#4d9221\"],[1,\"#276419\"]],\"sequential\":[[0.0,\"#0d0887\"],[0.1111111111111111,\"#46039f\"],[0.2222222222222222,\"#7201a8\"],[0.3333333333333333,\"#9c179e\"],[0.4444444444444444,\"#bd3786\"],[0.5555555555555556,\"#d8576b\"],[0.6666666666666666,\"#ed7953\"],[0.7777777777777778,\"#fb9f3a\"],[0.8888888888888888,\"#fdca26\"],[1.0,\"#f0f921\"]],\"sequentialminus\":[[0.0,\"#0d0887\"],[0.1111111111111111,\"#46039f\"],[0.2222222222222222,\"#7201a8\"],[0.3333333333333333,\"#9c179e\"],[0.4444444444444444,\"#bd3786\"],[0.5555555555555556,\"#d8576b\"],[0.6666666666666666,\"#ed7953\"],[0.7777777777777778,\"#fb9f3a\"],[0.8888888888888888,\"#fdca26\"],[1.0,\"#f0f921\"]]},\"colorway\":[\"#636efa\",\"#EF553B\",\"#00cc96\",\"#ab63fa\",\"#FFA15A\",\"#19d3f3\",\"#FF6692\",\"#B6E880\",\"#FF97FF\",\"#FECB52\"],\"font\":{\"color\":\"#2a3f5f\"},\"geo\":{\"bgcolor\":\"white\",\"lakecolor\":\"white\",\"landcolor\":\"#E5ECF6\",\"showlakes\":true,\"showland\":true,\"subunitcolor\":\"white\"},\"hoverlabel\":{\"align\":\"left\"},\"hovermode\":\"closest\",\"mapbox\":{\"style\":\"light\"},\"paper_bgcolor\":\"white\",\"plot_bgcolor\":\"#E5ECF6\",\"polar\":{\"angularaxis\":{\"gridcolor\":\"white\",\"linecolor\":\"white\",\"ticks\":\"\"},\"bgcolor\":\"#E5ECF6\",\"radialaxis\":{\"gridcolor\":\"white\",\"linecolor\":\"white\",\"ticks\":\"\"}},\"scene\":{\"xaxis\":{\"backgroundcolor\":\"#E5ECF6\",\"gridcolor\":\"white\",\"gridwidth\":2,\"linecolor\":\"white\",\"showbackground\":true,\"ticks\":\"\",\"zerolinecolor\":\"white\"},\"yaxis\":{\"backgroundcolor\":\"#E5ECF6\",\"gridcolor\":\"white\",\"gridwidth\":2,\"linecolor\":\"white\",\"showbackground\":true,\"ticks\":\"\",\"zerolinecolor\":\"white\"},\"zaxis\":{\"backgroundcolor\":\"#E5ECF6\",\"gridcolor\":\"white\",\"gridwidth\":2,\"linecolor\":\"white\",\"showbackground\":true,\"ticks\":\"\",\"zerolinecolor\":\"white\"}},\"shapedefaults\":{\"line\":{\"color\":\"#2a3f5f\"}},\"ternary\":{\"aaxis\":{\"gridcolor\":\"white\",\"linecolor\":\"white\",\"ticks\":\"\"},\"baxis\":{\"gridcolor\":\"white\",\"linecolor\":\"white\",\"ticks\":\"\"},\"bgcolor\":\"#E5ECF6\",\"caxis\":{\"gridcolor\":\"white\",\"linecolor\":\"white\",\"ticks\":\"\"}},\"title\":{\"x\":0.05},\"xaxis\":{\"automargin\":true,\"gridcolor\":\"white\",\"linecolor\":\"white\",\"ticks\":\"\",\"title\":{\"standoff\":15},\"zerolinecolor\":\"white\",\"zerolinewidth\":2},\"yaxis\":{\"automargin\":true,\"gridcolor\":\"white\",\"linecolor\":\"white\",\"ticks\":\"\",\"title\":{\"standoff\":15},\"zerolinecolor\":\"white\",\"zerolinewidth\":2}}},\"xaxis\":{\"anchor\":\"y\",\"domain\":[0.0,1.0]},\"yaxis\":{\"anchor\":\"x\",\"domain\":[0.0,1.0],\"title\":{\"text\":\"RendadoCandidato\"}},\"legend\":{\"tracegroupgap\":0},\"margin\":{\"t\":60},\"boxmode\":\"group\",\"width\":600,\"height\":600},                        {\"responsive\": true}                    ).then(function(){\n",
              "                            \n",
              "var gd = document.getElementById('1e62028f-ce21-457d-b90b-951bdac4656f');\n",
              "var x = new MutationObserver(function (mutations, observer) {{\n",
              "        var display = window.getComputedStyle(gd).display;\n",
              "        if (!display || display === 'none') {{\n",
              "            console.log([gd, 'removed!']);\n",
              "            Plotly.purge(gd);\n",
              "            observer.disconnect();\n",
              "        }}\n",
              "}});\n",
              "\n",
              "// Listen for the removal of the full notebook cells\n",
              "var notebookContainer = gd.closest('#notebook-container');\n",
              "if (notebookContainer) {{\n",
              "    x.observe(notebookContainer, {childList: true});\n",
              "}}\n",
              "\n",
              "// Listen for the clearing of the current output cell\n",
              "var outputEl = gd.closest('.output');\n",
              "if (outputEl) {{\n",
              "    x.observe(outputEl, {childList: true});\n",
              "}}\n",
              "\n",
              "                        })                };                            </script>        </div>\n",
              "</body>\n",
              "</html>"
            ]
          },
          "metadata": {}
        }
      ]
    },
    {
      "cell_type": "markdown",
      "source": [
        "## d) transformando valores categóricos em númericos"
      ],
      "metadata": {
        "id": "y-ZS1hL6j8JO"
      }
    },
    {
      "cell_type": "code",
      "source": [
        "# Ajustando as variaveis categóricas\n",
        "df['Genero']=df['Genero'].map({'Male':1,'Female':0})\n",
        "df['Casado']=df['Casado'].map({'Yes':1,'No':0})\n",
        "df['Educacao']=df['Educacao'].map({'Graduate':1,'Not Graduate':0})\n",
        "df['Dependentes'].replace('3+',3,inplace=True)\n",
        "df['Autonomo']=df['Autonomo'].map({'Yes':1,'No':0})\n",
        "df['Area_Propriedade']=df['Area_Propriedade'].map({'Semiurban':1,'Urban':2,'Rural':3})\n",
        "df['Status_Emprestimo']=df['Status_Emprestimo'].map({'Y':1,'N':0})"
      ],
      "metadata": {
        "id": "P63JPJGnNcwH"
      },
      "execution_count": 27,
      "outputs": []
    },
    {
      "cell_type": "markdown",
      "source": [
        "# Modelo - Decision Tree"
      ],
      "metadata": {
        "id": "3Zvktb4ekbLG"
      }
    },
    {
      "cell_type": "markdown",
      "source": [
        " Escolhemos a decision tree para construção do modelo"
      ],
      "metadata": {
        "id": "WTHgbtHitLw0"
      }
    },
    {
      "cell_type": "markdown",
      "metadata": {
        "id": "GRUy9iLXTUtJ"
      },
      "source": [
        "![](https://cdn-images-1.medium.com/max/2000/0*cant-HQdfMju-GxG)"
      ]
    },
    {
      "cell_type": "code",
      "source": [
        "X=df.drop(columns=['Emprestimo_ID','Status_Emprestimo']).values\n",
        "Y=df['Status_Emprestimo'].values\n",
        "X_train, X_test, Y_train, Y_test = train_test_split(X, Y, test_size = 0.2, random_state = 42)\n",
        "print('Shape do X_train=>',X_train.shape)\n",
        "print('Shape do X_test=>',X_test.shape)\n",
        "print('Shape do Y_train=>',Y_train.shape)\n",
        "print('Shape do Y_test=>',Y_test.shape)\n"
      ],
      "metadata": {
        "colab": {
          "base_uri": "https://localhost:8080/"
        },
        "id": "3k1rACNikz0Q",
        "outputId": "1f6aa2f4-9479-478b-e6b8-34fa6dbf2e35"
      },
      "execution_count": 28,
      "outputs": [
        {
          "output_type": "stream",
          "name": "stdout",
          "text": [
            "Shape do X_train=> (491, 11)\n",
            "Shape do X_test=> (123, 11)\n",
            "Shape do Y_train=> (491,)\n",
            "Shape do Y_test=> (123,)\n"
          ]
        }
      ]
    },
    {
      "cell_type": "code",
      "source": [
        "# Classificador de Decision Tree\n",
        "df = DecisionTreeClassifier(max_depth=3, criterion = 'entropy', random_state = 7)\n",
        "df.fit(X_train, Y_train)\n",
        "df_pred_train = df.predict(X_train)"
      ],
      "metadata": {
        "id": "iaTao-7gkdlT"
      },
      "execution_count": 29,
      "outputs": []
    },
    {
      "cell_type": "markdown",
      "source": [
        "## Avaliando o modelo"
      ],
      "metadata": {
        "id": "NS0uBq_usQNj"
      }
    },
    {
      "cell_type": "markdown",
      "source": [
        "Valores de f1-score do modelo e do teste estão similares, ou seja, não temos indício de overfitting"
      ],
      "metadata": {
        "id": "O7R_UqahtdAA"
      }
    },
    {
      "cell_type": "code",
      "source": [
        "df_pred_train = df.predict(X_train)\n",
        "print('Valor no Treino do F1-Score=>',f1_score(Y_train,df_pred_train))\n",
        "df_pred_test = df.predict(X_test)\n",
        "print('Valor no Teste do F1-Score=>',f1_score(Y_test,df_pred_test))"
      ],
      "metadata": {
        "colab": {
          "base_uri": "https://localhost:8080/"
        },
        "id": "ApVlRY0ckk11",
        "outputId": "d0a46f02-c88b-4305-95ad-bb569f92fefd"
      },
      "execution_count": 31,
      "outputs": [
        {
          "output_type": "stream",
          "name": "stdout",
          "text": [
            "Valor no Treino do F1-Score=> 0.8865435356200527\n",
            "Valor no Teste do F1-Score=> 0.8586956521739131\n"
          ]
        }
      ]
    },
    {
      "cell_type": "code",
      "source": [
        "print('Classification metrics: \\n', classification_report(Y_test, df_pred_test))\n",
        "print('Acurácia: \\n', accuracy_score(Y_test, df_pred_test))\n",
        "print('Confusion Matrix: \\n', confusion_matrix(Y_test, df_pred_test))"
      ],
      "metadata": {
        "colab": {
          "base_uri": "https://localhost:8080/"
        },
        "id": "RMshHPdnrWb-",
        "outputId": "d4124b38-28ab-4614-8f27-d4f3fc1f38d6"
      },
      "execution_count": 32,
      "outputs": [
        {
          "output_type": "stream",
          "name": "stdout",
          "text": [
            "Classification metrics: \n",
            "               precision    recall  f1-score   support\n",
            "\n",
            "           0       0.95      0.42      0.58        43\n",
            "           1       0.76      0.99      0.86        80\n",
            "\n",
            "    accuracy                           0.79       123\n",
            "   macro avg       0.85      0.70      0.72       123\n",
            "weighted avg       0.83      0.79      0.76       123\n",
            "\n",
            "Acurácia: \n",
            " 0.7886178861788617\n",
            "Confusion Matrix: \n",
            " [[18 25]\n",
            " [ 1 79]]\n"
          ]
        }
      ]
    },
    {
      "cell_type": "code",
      "source": [
        "![](https://cdn-images-1.medium.com/max/2000/1*c3W5mjgvBRIOFA8ye1JEXg.png)\n",
        "\n",
        "![](https://drek4537l1klr.cloudfront.net/rhys/v-5/Figures/CH03_FIG_11_MLR.png)\n",
        "\n",
        "![](https://machinelearningknowledge.ai/wp-content/uploads/2019/05/Overfitting-and-Underfitting-Animation.gif)"
      ],
      "metadata": {
        "colab": {
          "base_uri": "https://localhost:8080/"
        },
        "id": "0FQPf243sufr",
        "outputId": "e0d8633f-cc14-45ab-f9b7-2ed7b290e4be"
      },
      "execution_count": 36,
      "outputs": [
        {
          "output_type": "stream",
          "name": "stdout",
          "text": [
            "/bin/bash: -c: line 0: syntax error near unexpected token `https://cdn-images-1.medium.com/max/2000/1*c3W5mjgvBRIOFA8ye1JEXg.png'\n",
            "/bin/bash: -c: line 0: `[](https://cdn-images-1.medium.com/max/2000/1*c3W5mjgvBRIOFA8ye1JEXg.png)'\n",
            "/bin/bash: -c: line 0: syntax error near unexpected token `https://drek4537l1klr.cloudfront.net/rhys/v-5/Figures/CH03_FIG_11_MLR.png'\n",
            "/bin/bash: -c: line 0: `[](https://drek4537l1klr.cloudfront.net/rhys/v-5/Figures/CH03_FIG_11_MLR.png)'\n",
            "/bin/bash: -c: line 0: syntax error near unexpected token `https://machinelearningknowledge.ai/wp-content/uploads/2019/05/Overfitting-and-Underfitting-Animation.gif'\n",
            "/bin/bash: -c: line 0: `[](https://machinelearningknowledge.ai/wp-content/uploads/2019/05/Overfitting-and-Underfitting-Animation.gif)'\n"
          ]
        }
      ]
    },
    {
      "cell_type": "markdown",
      "source": [
        "# Próximos passos"
      ],
      "metadata": {
        "id": "ymkxZl3wsWTS"
      }
    },
    {
      "cell_type": "markdown",
      "source": [
        "1.   Uso de machine learning para preencher os campos nulos\n",
        "2.   Entendimento dos outliers com o time de negócio\n",
        "3.   Uso de normalização/padronização dos dados\n",
        "4.   Fazer SMOTE na base de treino balancear o target  \n",
        "5.   Usar crossvalidation para melhor avaliação do resultado\n",
        "6.   Mudança nos hiperparâmetros do modelo\n",
        "7.   Avaliar outros modelos de machine learning de classificação"
      ],
      "metadata": {
        "id": "I2oFgswjsaJr"
      }
    },
    {
      "cell_type": "markdown",
      "metadata": {
        "id": "JCGIEsSrKG66"
      },
      "source": [
        "### # Bora trocar uma ideia?\n",
        "https://www.linkedin.com/in/mariobibiano/\n"
      ]
    }
  ]
}